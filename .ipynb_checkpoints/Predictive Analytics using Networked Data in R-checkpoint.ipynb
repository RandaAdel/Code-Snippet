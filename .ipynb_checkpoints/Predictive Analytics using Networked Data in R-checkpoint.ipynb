{
 "cells": [
  {
   "cell_type": "code",
   "execution_count": 2,
   "id": "033cb141",
   "metadata": {},
   "outputs": [
    {
     "data": {
      "text/plain": [
       "[1] '1.4.2'"
      ]
     },
     "metadata": {},
     "output_type": "display_data"
    }
   ],
   "source": [
    "#install.packages(\"igraph\")\n",
    "\n",
    "library(igraph);\n",
    "packageVersion(\"igraph\")\n"
   ]
  },
  {
   "cell_type": "code",
   "execution_count": 4,
   "id": "a49c74f8",
   "metadata": {
    "scrolled": false
   },
   "outputs": [],
   "source": [
    "#install.packages(\"pROC\")\n",
    "library(pROC);"
   ]
  },
  {
   "cell_type": "code",
   "execution_count": 6,
   "id": "e418682d",
   "metadata": {
    "scrolled": true
   },
   "outputs": [],
   "source": [
    "#install.packages(\"exactRankTests\")\n",
    "library(exactRankTests);"
   ]
  },
  {
   "cell_type": "code",
   "execution_count": 7,
   "id": "68b0d4a7",
   "metadata": {},
   "outputs": [
    {
     "data": {
      "text/html": [
       "'edgeList'"
      ],
      "text/latex": [
       "'edgeList'"
      ],
      "text/markdown": [
       "'edgeList'"
      ],
      "text/plain": [
       "[1] \"edgeList\""
      ]
     },
     "metadata": {},
     "output_type": "display_data"
    }
   ],
   "source": [
    "#'customers', 'edgeList', 'g1'\n",
    "load(\"StudentEdgelist.RData\")\n",
    "ls()"
   ]
  },
  {
   "cell_type": "code",
   "execution_count": 8,
   "id": "8dc65972",
   "metadata": {},
   "outputs": [
    {
     "data": {
      "text/html": [
       "<style>\n",
       ".list-inline {list-style: none; margin:0; padding: 0}\n",
       ".list-inline>li {display: inline-block}\n",
       ".list-inline>li:not(:last-child)::after {content: \"\\00b7\"; padding: 0 .5ex}\n",
       "</style>\n",
       "<ol class=list-inline><li>'customers'</li><li>'edgeList'</li></ol>\n"
      ],
      "text/latex": [
       "\\begin{enumerate*}\n",
       "\\item 'customers'\n",
       "\\item 'edgeList'\n",
       "\\end{enumerate*}\n"
      ],
      "text/markdown": [
       "1. 'customers'\n",
       "2. 'edgeList'\n",
       "\n",
       "\n"
      ],
      "text/plain": [
       "[1] \"customers\" \"edgeList\" "
      ]
     },
     "metadata": {},
     "output_type": "display_data"
    }
   ],
   "source": [
    "#'customers', 'edgeList', 'g1'\n",
    "load(\"StudentCustomers.RData\")\n",
    "ls()"
   ]
  },
  {
   "cell_type": "code",
   "execution_count": 9,
   "id": "f7f3bb18",
   "metadata": {},
   "outputs": [
    {
     "data": {
      "text/html": [
       "<table class=\"dataframe\">\n",
       "<caption>A data.frame: 6 × 2</caption>\n",
       "<thead>\n",
       "\t<tr><th></th><th scope=col>from</th><th scope=col>to</th></tr>\n",
       "\t<tr><th></th><th scope=col>&lt;fct&gt;</th><th scope=col>&lt;fct&gt;</th></tr>\n",
       "</thead>\n",
       "<tbody>\n",
       "\t<tr><th scope=row>1</th><td>1</td><td>393 </td></tr>\n",
       "\t<tr><th scope=row>2</th><td>1</td><td>2573</td></tr>\n",
       "\t<tr><th scope=row>3</th><td>1</td><td>4430</td></tr>\n",
       "\t<tr><th scope=row>4</th><td>2</td><td>101 </td></tr>\n",
       "\t<tr><th scope=row>5</th><td>2</td><td>578 </td></tr>\n",
       "\t<tr><th scope=row>6</th><td>2</td><td>691 </td></tr>\n",
       "</tbody>\n",
       "</table>\n"
      ],
      "text/latex": [
       "A data.frame: 6 × 2\n",
       "\\begin{tabular}{r|ll}\n",
       "  & from & to\\\\\n",
       "  & <fct> & <fct>\\\\\n",
       "\\hline\n",
       "\t1 & 1 & 393 \\\\\n",
       "\t2 & 1 & 2573\\\\\n",
       "\t3 & 1 & 4430\\\\\n",
       "\t4 & 2 & 101 \\\\\n",
       "\t5 & 2 & 578 \\\\\n",
       "\t6 & 2 & 691 \\\\\n",
       "\\end{tabular}\n"
      ],
      "text/markdown": [
       "\n",
       "A data.frame: 6 × 2\n",
       "\n",
       "| <!--/--> | from &lt;fct&gt; | to &lt;fct&gt; |\n",
       "|---|---|---|\n",
       "| 1 | 1 | 393  |\n",
       "| 2 | 1 | 2573 |\n",
       "| 3 | 1 | 4430 |\n",
       "| 4 | 2 | 101  |\n",
       "| 5 | 2 | 578  |\n",
       "| 6 | 2 | 691  |\n",
       "\n"
      ],
      "text/plain": [
       "  from to  \n",
       "1 1    393 \n",
       "2 1    2573\n",
       "3 1    4430\n",
       "4 2    101 \n",
       "5 2    578 \n",
       "6 2    691 "
      ]
     },
     "metadata": {},
     "output_type": "display_data"
    },
    {
     "data": {
      "image/png": "[encoded data removed]",
      "text/plain": [
       "Plot with title \"\""
      ]
     },
     "metadata": {
      "image/png": {
       "height": 420,
       "width": 420
      }
     },
     "output_type": "display_data"
    }
   ],
   "source": [
    "# Inspect edgeList\n",
    "head(edgeList)\n",
    "\n",
    "# Construct the igraph object\n",
    "network <- graph_from_data_frame(edgeList, directed = FALSE)\n",
    "\n",
    "# View your igraph object\n",
    "plot(network)"
   ]
  },
  {
   "cell_type": "markdown",
   "id": "a5824282",
   "metadata": {},
   "source": [
    "#### Relational Network Classifier:\n",
    "#### Assign the label to the node based on the neighbours assuming the linked nodes have a propensity to have the same label "
   ]
  },
  {
   "cell_type": "code",
   "execution_count": 10,
   "id": "afe4d7e0",
   "metadata": {},
   "outputs": [
    {
     "data": {
      "text/html": [
       "<table class=\"dataframe\">\n",
       "<caption>A data.frame: 6 × 2</caption>\n",
       "<thead>\n",
       "\t<tr><th></th><th scope=col>id</th><th scope=col>churn</th></tr>\n",
       "\t<tr><th></th><th scope=col>&lt;fct&gt;</th><th scope=col>&lt;dbl&gt;</th></tr>\n",
       "</thead>\n",
       "<tbody>\n",
       "\t<tr><th scope=row>1</th><td>1   </td><td>0</td></tr>\n",
       "\t<tr><th scope=row>393</th><td>393 </td><td>0</td></tr>\n",
       "\t<tr><th scope=row>2573</th><td>2573</td><td>0</td></tr>\n",
       "\t<tr><th scope=row>4430</th><td>4430</td><td>0</td></tr>\n",
       "\t<tr><th scope=row>2</th><td>2   </td><td>0</td></tr>\n",
       "\t<tr><th scope=row>101</th><td>101 </td><td>0</td></tr>\n",
       "</tbody>\n",
       "</table>\n"
      ],
      "text/latex": [
       "A data.frame: 6 × 2\n",
       "\\begin{tabular}{r|ll}\n",
       "  & id & churn\\\\\n",
       "  & <fct> & <dbl>\\\\\n",
       "\\hline\n",
       "\t1 & 1    & 0\\\\\n",
       "\t393 & 393  & 0\\\\\n",
       "\t2573 & 2573 & 0\\\\\n",
       "\t4430 & 4430 & 0\\\\\n",
       "\t2 & 2    & 0\\\\\n",
       "\t101 & 101  & 0\\\\\n",
       "\\end{tabular}\n"
      ],
      "text/markdown": [
       "\n",
       "A data.frame: 6 × 2\n",
       "\n",
       "| <!--/--> | id &lt;fct&gt; | churn &lt;dbl&gt; |\n",
       "|---|---|---|\n",
       "| 1 | 1    | 0 |\n",
       "| 393 | 393  | 0 |\n",
       "| 2573 | 2573 | 0 |\n",
       "| 4430 | 4430 | 0 |\n",
       "| 2 | 2    | 0 |\n",
       "| 101 | 101  | 0 |\n",
       "\n"
      ],
      "text/plain": [
       "     id   churn\n",
       "1    1    0    \n",
       "393  393  0    \n",
       "2573 2573 0    \n",
       "4430 4430 0    \n",
       "2    2    0    \n",
       "101  101  0    "
      ]
     },
     "metadata": {},
     "output_type": "display_data"
    },
    {
     "data": {
      "text/plain": [
       "\n",
       "   0    1 \n",
       "4190  774 "
      ]
     },
     "metadata": {},
     "output_type": "display_data"
    },
    {
     "data": {
      "image/png": "[encoded data removed]",
      "text/plain": [
       "Plot with title \"\""
      ]
     },
     "metadata": {
      "image/png": {
       "height": 420,
       "width": 420
      }
     },
     "output_type": "display_data"
    }
   ],
   "source": [
    "# Inspect the customers dataframe\n",
    "head(customers)\n",
    "\n",
    "# Count the number of churners and non-churners\n",
    "table(customers$churn)\n",
    "\n",
    "# Add a node attribute called churn\n",
    "V(network)$churn <- customers$churn\n",
    "\n",
    "# Visualize the network\n",
    "plot(network, vertex.label = NA, edge.label = NA,\n",
    "    edge.color = 'black', vertex.size = 2)"
   ]
  },
  {
   "cell_type": "code",
   "execution_count": 11,
   "id": "3c42cae1",
   "metadata": {},
   "outputs": [
    {
     "data": {
      "image/png": "[encoded data removed]",
      "text/plain": [
       "Plot with title \"\""
      ]
     },
     "metadata": {
      "image/png": {
       "height": 420,
       "width": 420
      }
     },
     "output_type": "display_data"
    }
   ],
   "source": [
    "# Add a node attribute called color\n",
    "V(network)$color <- V(network)$churn\n",
    "\n",
    "# Change the color of churners to red and non-churners to white\n",
    "V(network)$color <- gsub(\"1\", \"red\", V(network)$color) \n",
    "V(network)$color <- gsub(\"0\", \"white\", V(network)$color)\n",
    "\n",
    "# Plot the network\n",
    "plot(network, vertex.label = NA, edge.label = NA,\n",
    "    edge.color = \"black\", vertex.size = 2)"
   ]
  },
  {
   "cell_type": "code",
   "execution_count": 12,
   "id": "5e777d5a",
   "metadata": {},
   "outputs": [
    {
     "data": {
      "image/png": "[encoded data removed]",
      "text/plain": [
       "Plot with title \"\""
      ]
     },
     "metadata": {
      "image/png": {
       "height": 420,
       "width": 420
      }
     },
     "output_type": "display_data"
    }
   ],
   "source": [
    "# Create a subgraph with only churners\n",
    "churnerNetwork <- induced_subgraph(network, v = V(network)[which(V(network)$churn == 1)])\n",
    "                    \n",
    "# Plot the churner network \n",
    "plot(churnerNetwork, vertex.label = NA, vertex.size = 2)"
   ]
  },
  {
   "cell_type": "markdown",
   "id": "edbe06d1",
   "metadata": {},
   "source": [
    "#### To compute chrun probablities, \\#ChurnNeighbors, \\#NonChurnNeighbors are needed for each node "
   ]
  },
  {
   "cell_type": "code",
   "execution_count": 13,
   "id": "3ab4b9ef",
   "metadata": {},
   "outputs": [
    {
     "name": "stdout",
     "output_type": "stream",
     "text": [
      "   [1] 0 2 2 0 1 0 0 0 0 2 0 0 0 1 1 0 0 1 0 0 1 1 0 0 1 0 1 1 1 0 1 0 2 1 0 2 2\n",
      "  [38] 1 0 1 0 1 0 1 0 1 2 0 0 0 2 1 0 0 1 2 1 0 0 2 1 0 1 1 2 2 0 1 3 2 0 0 1 1\n",
      "  [75] 0 2 0 1 1 1 1 2 2 0 2 0 0 1 1 2 2 2 2 0 0 2 0 1 0 3 2 3 3 1 2 1 1 0 2 2 0\n",
      " [112] 1 3 0 3 0 0 2 4 1 0 0 2 2 1 1 1 0 0 1 2 1 3 1 3 1 0 0 1 0 1 0 0 0 0 0 3 1\n",
      " [149] 0 1 1 1 3 0 1 2 0 1 1 0 3 2 0 2 0 2 2 1 1 3 1 0 0 1 0 2 1 0 1 0 3 1 0 1 5\n",
      " [186] 0 0 1 2 1 0 0 2 2 2 0 1 2 1 0 1 2 3 3 0 2 0 1 4 0 1 2 2 1 1 2 0 0 1 4 0 0\n",
      " [223] 2 1 0 1 0 1 1 1 1 1 0 0 0 0 1 1 2 2 1 0 2 2 2 1 0 0 0 0 0 1 1 2 2 2 0 4 1\n",
      " [260] 2 0 1 0 0 1 0 1 0 2 0 2 0 0 0 1 0 1 1 2 0 1 0 0 2 0 0 2 2 1 3 2 0 1 3 0 1\n",
      " [297] 3 0 1 1 1 1 1 0 1 0 0 1 1 0 0 0 0 0 0 1 1 2 0 0 2 2 1 0 2 2 1 2 2 2 2 1 2\n",
      " [334] 0 1 1 0 0 1 2 1 2 2 1 0 3 1 2 0 1 0 2 0 1 0 0 0 1 0 1 0 0 0 1 0 1 1 0 2 1\n",
      " [371] 1 1 1 2 2 1 0 1 1 1 2 0 0 2 1 0 0 2 2 1 2 0 1 1 0 3 1 0 0 0 2 0 1 0 0 3 0\n",
      " [408] 2 0 0 2 0 0 5 3 1 0 0 2 1 0 2 2 2 5 1 0 1 0 0 1 1 0 3 0 1 0 2 2 1 2 2 0 1\n",
      " [445] 1 2 0 1 0 1 0 1 1 1 1 2 0 1 1 2 0 1 0 0 4 1 1 0 0 1 2 1 1 1 3 0 1 1 1 3 2\n",
      " [482] 2 1 1 0 0 1 1 2 1 2 0 1 0 0 1 2 1 2 0 0 3 2 0 1 2 0 1 2 1 2 2 2 1 0 2 1 2\n",
      " [519] 1 0 0 0 0 1 2 1 1 2 0 0 0 1 2 1 1 0 0 0 1 2 2 0 0 1 1 1 0 2 1 1 3 0 0 1 0\n",
      " [556] 0 1 1 0 2 0 0 2 0 2 3 0 0 1 2 0 0 0 1 0 1 1 0 0 0 0 2 1 2 0 2 3 0 0 0 0 0\n",
      " [593] 0 1 1 0 2 0 0 1 1 3 1 0 1 2 1 2 0 0 1 1 1 0 0 1 0 1 1 1 0 1 1 0 0 1 1 0 1\n",
      " [630] 1 1 0 1 1 0 3 1 0 1 1 0 2 0 1 0 2 0 2 0 0 0 0 1 1 1 0 3 3 1 1 1 2 1 0 1 1\n",
      " [667] 1 0 1 0 2 1 1 0 2 0 0 1 0 0 1 2 1 0 3 0 1 0 0 1 1 0 0 1 2 2 3 0 0 1 2 1 0\n",
      " [704] 1 1 3 1 1 1 4 0 1 1 0 2 2 2 0 1 0 2 0 3 1 1 0 1 0 0 1 1 1 1 1 1 0 0 0 0 0\n",
      " [741] 3 1 2 0 1 0 0 0 1 1 0 0 0 0 2 1 0 0 0 1 0 2 0 0 1 2 2 1 1 1 1 0 1 0 2 0 1\n",
      " [778] 3 1 1 0 2 0 1 0 0 0 1 1 0 0 0 0 1 2 2 2 0 1 0 0 2 0 0 0 1 0 1 2 0 0 1 0 2\n",
      " [815] 2 1 2 2 2 2 1 1 0 1 1 1 1 1 1 2 0 1 0 1 2 1 2 0 1 2 3 0 3 0 0 0 1 0 1 1 2\n",
      " [852] 2 0 0 0 1 0 2 1 2 0 0 1 0 1 2 1 2 0 0 1 1 0 0 0 0 1 1 0 0 0 2 3 1 2 2 1 2\n",
      " [889] 0 1 1 1 2 1 1 0 1 1 0 2 1 2 0 0 0 0 1 2 0 1 0 1 0 1 2 0 1 3 0 5 3 3 1 2 0\n",
      " [926] 0 2 1 0 0 0 0 0 3 1 1 2 0 1 0 0 2 0 2 0 0 1 2 1 1 2 0 0 3 1 0 3 2 1 1 2 0\n",
      " [963] 4 2 1 0 0 0 1 1 0 2 1 0 0 1 0 0 0 1 0 3 1 0 2 1 2 3 2 3 1 0 0 2 1 0 1 1 1\n",
      "[1000] 0 1 1 0 1 2 0 1 3 2 1 3 0 0 0 1 1 0 1 2 1 0 0 0 2 0 1 1 0 0 2 1 1 1 0 0 0\n",
      "[1037] 0 2 0 0 1 2 0 0 3 2 0 1 1 1 0 0 0 0 1 2 1 2 0 0 1 2 2 2 1 2 2 0 0 0 1 0 0\n",
      "[1074] 1 2 1 1 0 1 1 4 0 0 2 1 1 0 1 3 0 4 1 0 1 0 1 0 0 1 1 0 1 0 2 0 2 1 3 3 4\n",
      "[1111] 1 0 1 0 1 2 2 1 2 3 1 2 1 1 0 5 1 1 1 0 1 3 1 1 1 1 1 3 1 4 2 1 3 2 0 3 1\n",
      "[1148] 2 0 1 2 0 1 1 3 0 1 2 1 0 1 1 0 1 0 1 0 2 0 2 0 0 1 1 2 0 1 2 2 0 1 2 1 1\n",
      "[1185] 0 2 0 0 1 1 2 2 2 1 0 0 0 0 2 0 0 0 3 4 0 1 0 0 1 1 2 0 0 0 0 1 4 1 0 1 2\n",
      "[1222] 2 1 0 1 1 0 1 0 1 1 2 0 1 1 2 0 1 0 1 2 1 1 0 2 0 1 3 0 0 0 1 2 1 2 2 3 1\n",
      "[1259] 1 1 1 2 1 0 1 2 1 0 1 2 0 1 1 3 2 1 0 1 1 0 1 1 1 1 2 0 1 0 0 1 0 1 1 0 0\n",
      "[1296] 0 3 1 1 0 0 0 0 2 1 0 0 2 0 2 2 1 0 0 0 2 0 2 0 0 2 0 0 0 0 0 1 0 0 0 2 1\n",
      "[1333] 4 0 1 0 1 0 1 2 1 0 1 1 2 1 3 2 1 1 0 0 0 0 0 2 0 2 1 0 1 1 0 0 0 2 0 2 2\n",
      "[1370] 0 1 0 0 3 1 1 2 0 0 2 0 0 0 1 2 2 2 4 1 2 0 1 0 1 1 0 2 1 2 2 0 2 0 1 1 0\n",
      "[1407] 1 1 1 1 1 0 0 0 0 0 1 0 0 1 1 0 0 1 0 1 0 2 1 2 1 0 1 2 1 0 3 0 0 1 2 1 1\n",
      "[1444] 1 1 0 0 0 2 0 0 1 1 1 3 2 0 1 0 1 0 1 0 2 0 1 0 2 2 2 1 1 2 0 1 0 1 1 0 2\n",
      "[1481] 1 0 2 0 1 2 4 3 0 0 0 1 1 1 2 2 0 1 2 0 1 0 1 1 0 1 2 0 0 4 1 0 0 2 3 0 2\n",
      "[1518] 0 0 3 1 0 2 1 0 1 1 1 1 2 0 1 1 0 0 3 2 0 3 3 0 2 1 0 2 2 2 0 1 0 1 1 1 1\n",
      "[1555] 2 1 1 1 1 0 0 2 1 0 0 1 1 1 0 0 1 0 3 1 0 0 1 1 3 2 0 0 2 1 2 0 1 1 2 2 3\n",
      "[1592] 0 0 0 1 1 1 1 1 1 2 1 2 0 1 0 0 0 0 1 0 1 0 1 1 3 0 1 1 0 0 1 1 2 2 2 0 0\n",
      "[1629] 0 1 3 1 0 1 0 0 2 2 1 0 0 1 0 0 0 0 2 1 1 0 1 2 2 0 2 0 0 1 2 1 0 0 0 2 1\n",
      "[1666] 0 1 1 0 1 1 1 2 1 0 1 0 1 0 3 4 0 0 0 1 2 0 1 1 2 2 3 0 0 1 1 0 0 3 1 0 0\n",
      "[1703] 0 1 1 0 0 3 1 0 2 2 2 2 1 0 2 2 0 1 1 3 4 3 0 2 3 1 2 1 2 1 1 1 2 3 0 3 0\n",
      "[1740] 1 2 2 2 4 5 1 2 1 2 1 0 1 0 2 2 0 2 1 1 0 0 1 1 2 1 1 2 0 0 0 0 0 0 0 0 0\n",
      "[1777] 0 0 0 0 1 1 0 0 0 0 2 1 0 2 0 0 0 0 1 0 1 0 1 0 0 2 0 1 0 1 1 1 0 0 1 0 0\n",
      "[1814] 0 1 1 3 1 1 1 1 0 0 1 0 1 0 2 1 1 0 0 1 0 3 2 0 0 0 1 2 0 0 1 2 0 1 2 0 0\n",
      "[1851] 0 2 1 3 0 1 2 1 0 1 1 1 1 2 1 2 3 0 1 2 2 2 1 0 0 0 0 0 1 0 0 0 1 2 1 1 0\n",
      "[1888] 0 1 1 1 0 2 2 1 0 1 0 0 1 1 0 0 0 0 0 1 1 0 1 3 1 0 1 0 2 3 1 1 2 2 2 0 1\n",
      "[1925] 1 1 0 1 0 0 0 1 2 1 1 1 1 2 0 0 0 3 0 0 3 1 2 1 0 1 1 1 1 0 1 1 2 1 0 2 2\n",
      "[1962] 2 1 2 1 1 0 1 2 2 0 0 2 1 0 0 2 1 0 3 1 1 0 0 1 0 0 0 2 0 0 1 3 0 1 1 2 1\n",
      "[1999] 0 2 2 0 0 0 4 0 0 0 0 1 0 1 3 2 1 3 0 0 1 1 1 1 1 4 2 1 0 0 1 0 2 0 1 0 0\n",
      "[2036] 0 0 0 1 1 1 1 0 1 0 3 1 2 4 0 0 0 0 2 1 0 2 2 0 1 1 3 0 1 2 0 2 0 1 1 0 1\n",
      "[2073] 1 2 1 0 1 0 0 2 1 1 1 1 0 2 0 0 1 2 1 0 0 1 2 0 2 0 1 1 0 1 0 0 0 0 1 1 0\n",
      "[2110] 0 0 1 0 0 1 0 1 0 1 1 2 2 3 2 0 1 1 1 0 2 1 0 1 1 1 1 0 0 2 1 0 0 0 2 1 1\n",
      "[2147] 0 3 1 0 2 0 1 0 1 0 0 1 0 0 1 1 0 0 0 0 2 1 1 2 2 0 1 1 0 1 2 0 1 1 0 1 0\n",
      "[2184] 1 1 1 1 1 0 1 1 1 1 2 0 0 0 0 3 2 1 1 0 1 1 0 0 1 1 0 5 1 0 3 0 0 2 3 3 1\n",
      "[2221] 0 0 3 1 2 0 2 1 5 0 0 0 0 0 1 0 0 1 2 0 0 1 2 0 2 1 3 2 2 2 0 0 0 1 1 1 2\n",
      "[2258] 2 1 0 0 0 0 1 1 1 0 0 1 1 0 2 1 0 2 0 1 0 1 0 1 0 1 1 0 0 3 1 1 0 0 2 1 0\n",
      "[2295] 1 0 0 1 2 0 1 0 0 0 1 0 0 2 1 2 1 2 1 0 1 1 0 0 1 2 1 1 0 0 2 0 1 0 0 1 2\n",
      "[2332] 0 0 1 0 0 1 0 0 0 1 0 0 1 1 0 0 0 1 1 2 0 2 0 0 0 2 1 1 1 1 2 1 3 1 4 2 2\n",
      "[2369] 0 2 3 1 1 0 0 0 0 2 2 2 2 1 2 3 2 1 2 1 0 2 0 1 0 2 2 3 3 0 0 2 1 0 1 1 1\n",
      "[2406] 1 1 0 0 0 0 1 3 0 0 2 1 0 1 1 1 0 1 3 1 1 1 0 1 1 1 0 2 2 1 0 2 0 1 1 0 0\n",
      "[2443] 2 3 0 0 2 1 1 0 1 0 2 1 1 1 0 0 3 0 1 1 1 1 0 0 1 2 1 2 1 1 0 2 0 0 1 2 1\n",
      "[2480] 1 0 0 0 0 1 1 0 0 0 2 1 0 0 1 1 1 1 2 1 1 1 0 0 1 1 0 1 3 1 0 0 2 1 0 1 0\n",
      "[2517] 3 1 0 0 0 0 0 1 1 1 1 1 2 0 0 0 0 1 1 3 1 3 1 1 0 1 1 1 0 0 2 2 0 2 2 0 0\n",
      "[2554] 0 1 1 1 1 1 1 0 0 1 0 0 1 1 0 0 3 3 1 0 0 1 2 1 1 0 0 1 2 1 0 3 0 0 1 1 1\n",
      "[2591] 0 0 2 3 1 0 1 3 0 0 1 0 0 0 2 1 0 0 0 1 0 0 1 0 0 1 0 0 1 1 0 0 2 0 0 0 1\n",
      "[2628] 2 0 1 0 2 0 3 2 3 1 0 0 0 1 0 1 0 0 0 0 0 0 0 1 1 2 0 0 1 3 2 2 0 1 1 1 0\n",
      "[2665] 0 0 0 2 0 1 0 0 0 0 0 2 1 0 0 3 2 0 0 1 0 1 1 1 1 2 0 1 0 0 0 2 3 1 0 1 3\n",
      "[2702] 2 0 1 0 0 0 1 1 0 1 0 1 1 0 3 1 0 1 2 0 1 1 1 1 3 0 1 0 1 0 1 0 0 0 2 0 1\n",
      "[2739] 2 1 0 2 1 0 1 2 3 0 1 1 0 2 1 0 0 0 1 1 1 1 1 0 1 1 0 0 1 1 1 0 3 1 0 1 0\n",
      "[2776] 1 2 0 1 1 0 0 0 1 1 0 1 1 0 0 0 1 0 1 3 1 1 1 0 2 3 0 1 1 0 0 1 0 2 0 0 1\n",
      "[2813] 1 0 1 0 1 1 0 1 3 0 0 1 1 1 0 1 1 0 4 0 0 2 0 2 2 1 0 1 0 1 0 0 2 1 0 1 1\n",
      "[2850] 0 1 1 0 0 1 0 1 1 1 3 3 0 1 2 0 1 1 0 1 4 1 0 1 1 0 0 0 2 1 0 1 1 2 1 3 2\n",
      "[2887] 5 1 1 0 1 0 1 0 0 0 1 0 0 0 0 2 1 0 2 2 0 0 0 0 0 0 0 1 0 1 0 0 0 1 3 1 1\n",
      "[2924] 0 0 0 0 2 0 0 0 1 1 0 0 1 2 2 0 1 1 1 1 2 3 0 0 2 2 0 1 1 0 2 2 0 1 1 0 2\n",
      "[2961] 1 0 0 0 1 1 1 1 0 0 2 1 2 0 1 2 1 1 1 1 0 1 3 0 2 2 0 1 1 1 1 0 0 1 0 0 0\n",
      "[2998] 1 1 0 0 0 2 2 3 0 2 0 0 0 0 0 0 1 1 1 2 1 1 2 0 2 0 0 1 1 0 1 2 1 1 3 1 2\n",
      "[3035] 0 1 0 2 0 2 0 0 1 1 3 2 2 1 1 1 1 1 1 1 0 0 1 1 0 0 0 1 2 1 0 0 0 3 0 1 0\n",
      "[3072] 0 2 1 1 1 0 2 2 0 0 0 1 3 1 1 1 1 0 0 2 1 1 3 1 0 2 0 2 2 1 1 0 0 0 0 0 1\n",
      "[3109] 2 0 1 1 1 0 2 0 2 1 0 1 1 1 1 1 1 2 0 0 0 0 1 0 1 0 2 3 2 0 1 1 0 1 0 0 2\n",
      "[3146] 0 1 0 1 0 1 0 2 0 0 0 1 2 1 3 1 2 3 0 0 0 0 1 1 0 0 2 1 0 1 1 2 0 0 0 0 0\n",
      "[3183] 1 1 0 1 0 0 0 0 1 0 1 1 1 0 2 2 0 2 2 0 2 1 2 1 1 2 1 1 0 1 1 0 1 0 1 2 1\n",
      "[3220] 2 2 0 2 1 0 0 0 0 0 0 0 0 1 2 0 0 2 2 2 0 1 0 1 2 3 1 1 1 1 0 0 2 2 0 2 2\n",
      "[3257] 2 1 0 2 0 1 1 1 1 0 1 1 1 0 0 1 0 0 0 0 0 1 2 2 0 2 1 0 0 2 1 0 1 1 1 0 1\n",
      "[3294] 0 2 0 1 0 1 0 0 1 1 1 1 0 0 1 1 1 1 0 0 1 0 0 2 2 2 3 1 0 0 0 0 1 1 1 2 1\n",
      "[3331] 2 2 1 0 0 0 0 1 1 2 1 0 1 1 2 0 0 1 0 0 1 0 1 1 1 2 0 1 0 0 1 0 0 2 1 2 0\n",
      "[3368] 1 2 1 0 0 0 1 0 0 2 1 1 1 1 2 0 1 0 2 2 0 1 0 0 1 0 0 0 0 1 1 1 1 1 1 0 1\n",
      "[3405] 1 1 1 2 0 1 0 2 1 0 3 1 0 1 0 1 2 1 1 1 2 2 0 1 1 0 0 0 0 0 1 0 1 1 0 0 0\n",
      "[3442] 2 0 0 1 1 0 1 1 1 3 0 0 1 3 0 2 1 1 0 0 2 2 0 0 2 1 1 1 1 1 1 1 0 1 2 1 2\n",
      "[3479] 0 0 0 0 2 0 1 1 2 0 0 1 0 0 2 1 2 1 1 1 1 1 1 2 0 0 0 3 0 0 0 0 1 0 0 3 3\n",
      "[3516] 1 0 0 1 1 2 2 0 1 0 0 0 1 2 1 3 1 0 1 1 0 0 1 1 0 1 1 0 0 2 0 0 0 0 2 3 1\n",
      "[3553] 0 1 1 0 0 1 1 1 1 0 1 1 0 1 1 3 3 0 1 2 0 1 1 0 1 0 0 0 0 2 0 0 1 0 0 1 0\n",
      "[3590] 0 0 0 0 1 0 1 0 2 1 2 1 1 0 1 0 1 2 1 1 0 0 1 0 0 0 1 1 1 1 1 2 1 0 0 0 1\n",
      "[3627] 0 3 1 0 0 2 0 0 0 1 0 1 1 0 1 0 1 1 0 0 1 0 1 1 1 2 0 0 0 1 1 2 1 0 0 2 1\n",
      "[3664] 0 0 2 0 0 0 2 0 0 1 1 0 1 0 0 2 1 2 0 1 1 0 0 0 1 2 0 0 3 0 0 1 0 1 0 0 0\n",
      "[3701] 0 1 1 0 0 0 0 0 1 2 0 1 0 2 0 1 2 0 0 0 0 3 2 1 0 0 1 1 0 1 0 0 0 0 3 0 1\n",
      "[3738] 0 2 0 0 0 1 0 1 1 1 1 0 1 1 1 0 1 0 0 1 1 1 2 1 1 0 0 0 0 0 0 0 1 1 0 0 1\n",
      "[3775] 1 0 0 1 1 0 1 2 0 2 0 2 0 0 0 1 1 1 0 0 0 1 0 0 1 2 0 0 0 1 0 0 0 0 1 0 2\n",
      "[3812] 0 0 1 3 1 0 1 1 1 0 1 0 0 0 0 1 2 1 0 1 1 0 1 0 1 0 0 0 1 1 4 0 0 1 1 0 2\n",
      "[3849] 1 1 0 2 3 0 0 0 0 0 3 1 2 0 0 0 0 0 2 0 1 2 0 1 0 1 0 0 0 1 1 1 0 0 1 0 0\n",
      "[3886] 1 0 0 0 0 0 0 0 1 1 1 1 1 2 0 1 2 0 2 0 0 2 0 0 0 0 1 1 1 1 0 1 0 0 1 1 1\n",
      "[3923] 0 0 0 0 1 3 1 1 0 1 0 2 1 0 0 0 1 0 0 1 1 1 0 0 1 0 0 0 1 1 2 0 0 0 1 0 0\n",
      "[3960] 0 1 1 0 0 0 0 1 1 1 2 1 2 0 4 0 0 1 1 0 1 1 0 1 0 1 0 0 0 0 1 0 0 2 0 0 1\n",
      "[3997] 2 0 1 0 0 0 0 0 0 3 0 0 2 0 0 0 1 0 0 1 1 0 0 1 1 1 0 0 0 0 0 0 1 1 0 0 0\n",
      "[4034] 1 0 0 2 1 0 0 1 0 1 0 0 0 0 1 1 0 0 0 0 0 1 1 0 1 0 0 0 0 0 1 0 1 0 0 1 1\n",
      "[4071] 0 1 0 1 0 1 0 0 0 0 0 0 0 1 0 0 0 0 0 0 0 1 0 1 1 1 0 0 1 0 1 2 0 2 0 0 1\n",
      "[4108] 2 0 1 0 0 0 1 0 0 2 0 0 1 0 1 0 0 1 0 0 0 1 0 0 0 1 1 1 3 1 1 0 0 1 0 3 3\n",
      "[4145] 1 1 1 0 0 0 0 1 0 0 0 0 0 0 3 1 1 0 2 1 1 1 2 0 2 0 1 0 2 1 0 0 1 1 0 1 0\n",
      "[4182] 1 0 0 0 0 1 1 1 0 0 0 0 0 1 2 1 0 0 1 0 0 0 1 1 2 0 0 0 0 1 0 2 1 1 1 0 0\n",
      "[4219] 0 0 0 1 1 0 1 0 0 0 0 1 0 1 0 0 1 0 0 0 1 1 0 1 0 0 0 0 0 0 1 1 1 0 0 2 0\n",
      "[4256] 0 0 0 0 1 0 1 0 0 0 0 0 0 1 0 0 1 0 0 0 0 3 1 0 0 0 2 1 1 0 0 2 1 0 1 0 2\n",
      "[4293] 0 0 0 0 1 0 0 0 0 0 0 0 0 0 2 0 1 1 0 1 0 1 1 0 0 0 0 0 0 1 2 1 1 1 0 0 0\n",
      "[4330] 0 0 1 0 0 0 0 0 0 1 1 1 0 2 0 2 0 1 1 0 2 1 0 0 0 0 0 0 0 0 0 0 0 1 0 1 1\n",
      "[4367] 1 0 1 1 0 0 0 0 0 1 0 0 0 0 0 0 0 0 0 0 0 1 1 0 0 0 0 1 1 3 1 2 0 0 1 0 1\n",
      "[4404] 1 1 1 1 2 1 0 0 1 1 2 2 0 0 0 1 0 1 1 1 2 0 2 1 0 1 1 1 0 0 0 0 1 1 0 0 0\n",
      "[4441] 1 0 1 0 0 1 0 0 1 1 2 0 0 0 1 0 1 0 0 0 1 2 0 1 1 1 1 1 0 1 1 0 0 1 0 0 0\n",
      "[4478] 0 0 0 0 0 0 0 0 1 0 1 1 1 0 1 2 2 1 1 0 2 0 1 0 0 2 1 1 0 0 1 0 2 0 1 0 0\n",
      "[4515] 0 0 0 1 0 3 0 1 0 1 1 0 0 0 1 0 1 2 2 0 0 1 1 2 0 0 0 1 0 1 0 2 0 0 0 0 2\n",
      "[4552] 0 0 0 0 1 0 0 0 0 1 0 0 0 0 0 0 1 0 0 2 0 0 2 0 0 1 2 1 1 0 0 0 0 0 0 1 0\n",
      "[4589] 1 0 2 0 1 0 0 1 1 0 1 1 1 0 2 0 0 0 0 0 0 0 1 2 0 0 1 1 1 0 1 1 1 2 1 0 0\n",
      "[4626] 1 0 0 2 1 1 0 0 0 1 0 0 0 0 1 0 1 0 0 1 0 0 1 0 2 1 0 0 1 2 0 1 0 0 1 0 0\n",
      "[4663] 0 0 1 0 0 0 1 1 2 0 1 2 1 0 0 0 0 1 0 0 0 2 1 1 0 1 1 0 0 0 3 0 1 1 0 1 0\n",
      "[4700] 0 0 1 1 1 1 0 0 0 0 0 0 2 0 0 0 1 2 1 0 0 1 0 0 0 0 0 0 0 1 0 1 1 1 0 0 0\n",
      "[4737] 1 1 0 0 2 0 1 1 1 0 0 0 0 0 0 0 1 0 0 2 0 0 1 0 1 1 1 0 1 2 0 0 0 1 2 1 0\n",
      "[4774] 0 0 0 0 1 0 1 0 0 0 0 1 0 1 0 0 0 1 1 1 0 0 1 1 0 0 0 0 0 1 0 1 2 0 0 0 3\n",
      "[4811] 0 0 0 0 1 1 1 1 0 0 0 0 0 0 0 0 0 0 0 0 1 0 1 0 1 2 0 0 0 2 0 0 1 1 1 0 0\n",
      "[4848] 1 0 0 0 3 0 0 1 0 0 0 0 0 0 0 1 1 0 0 0 1 1 0 0 0 1 0 0 0 0 0 0 2 0 1 1 1\n",
      "[4885] 0 0 1 2 0 1 1 1 1 1 0 1 0 1 0 0 0 0 0 0 0 0 0 1 0 0 0 1 1 0 0 1 1 0 0 1 0\n",
      "[4922] 2 0 0 0 2 0 1 0 0 1 1 0 0 0 0 1 0 1 0 0 1 1 2 1 1 0 0 0 0 1 0 1 0 0 1 0 0\n",
      "[4959] 0 1 0 0 0 0\n"
     ]
    },
    {
     "name": "stdout",
     "output_type": "stream",
     "text": [
      "   [1]  3  5  2  2  4  6  6  4  5  1  9  5  3  8  3  3  5  5  5  4  3  5  6  3\n",
      "  [25]  2  2  4  4  1  3  7  3  4  2  9  7  1  4  7  3  4  2  4  3  3  8  3  2\n",
      "  [49]  4  1  6  4  5  3  3  5  6  2  2  6  3  9  3  3  4  4  4  7  8  4  3  1\n",
      "  [73]  8  7  4  1  5  1  3  3  4  5  3  5  6  1 10  5  4  6  2  4  9  5  6  5\n",
      "  [97]  6  4  6  7  9  3  5  5  5  4  6  1  4  1  1  6  7 10  2  1  4  6  4  4\n",
      " [121]  1  4  8  0  4  1  1 10  2  7  5  6  3  3  1  3  4  3  4  3  3  7  4  6\n",
      " [145]  7  6  2  6  4  3  4  4  6  5  3  1  1  4  1  6  6  6  3  7  5  4  2  3\n",
      " [169]  6  6  7  4  4  5  5  5  7  2  8  8  5  6  7  9  5  7  3  3  5  5  6  7\n",
      " [193]  9  1  4  9  4  3  6  3  2  3  0  6  2  3  3  4  9  6  4  4  5  6  6  3\n",
      " [217]  3  3  5  2  7  5  5  2  7  3  7  4  4  1  5  3  4  3  4  4  5  3  8  3\n",
      " [241]  6  3  4  5  3  4  5  6  6  1  3  4  7  6  3  8  7  4  7  3  2  3  5  1\n",
      " [265]  7  8  4  5  3  3  7  7  6  5  7  9  6  5  4  2  3  1  7  4  7  2  5  5\n",
      " [289]  3  2  4  9  6  6  5  5  5  8  7  2  3  4  2  3  7  4  6  8  7  6  7  5\n",
      " [313]  4  5  3  6  4  7 10  3  8  3  5  5  8  7  4  5  4  4  1  1  4  3  4  4\n",
      " [337]  2  2  6  6  8  5  4  2  4  4  1  4  2  9  4  7  5  6  3  4  3  5  4  4\n",
      " [361]  2  2  9  8  5  4  5  4  4  2  3  3  4  6  1  8  4  5  5  7  7  9  9  5\n",
      " [385]  3  9  4  7  4  7  4  8  8  6  8  3  5  5  6  6  6  7  2  2  1  4  5  4\n",
      " [409]  5  5  7  8  5  8 10  7  4  4  2  4  6  5  7  4  6  4  4  3  6  3  2  7\n",
      " [433]  4  7  3  3  3  5  4  4  2  6  3  2  3  3  2  2  3  3  7  5  5  8  6  7\n",
      " [457]  8  5  4  6  5  6  7  6  4  3  5  4  7  2  6  8  5  2  5  4  4  8  4  3\n",
      " [481]  5  6  7  4  5  4  9  8  3  4  6  2  6  1  6  4  4  4  6  9  5  8  4  7\n",
      " [505]  6  6  3  2  6  7  5  6  4  2  3  6  2  3  8  3  6  7  7  5  5  4  1  4\n",
      " [529]  7  5  5  9  7  3  2  3  2  1  4  4  2  5  6  2  2  7  3  5  5  6  2  3\n",
      " [553]  3  6  9  5  4  8  7  5  3  5  3  5  5  5  4  7  6  8  7  6  3  3  3  3\n",
      " [577]  4  8  7  4  4  6  2  6  6  4  7  5  8  4  3  5  4  6  6  3  3  6  6  8\n",
      " [601]  4  5  3  3  5  4  7  8  5  3  4 10  4  6  1 10  3  7  0  3  2  4  5 10\n",
      " [625]  3  5  8  4  5  2  4  6  5  7  2  5  3  4  6  6  4  5  4  5  2  2  5  6\n",
      " [649]  9  5  4  1  3  5  5  3  7  8  5  5  3 11  7  7 10  5  6  7  1  4  7  7\n",
      " [673]  6  3  8  5  5  4  3  3  6  1  5  3  7  4  6  5  4  5  5 10  5  5  3  8\n",
      " [697] 10  4  8  3  2  6  3  2  5  6  5  5  8  8  5  3  4  3  7  4  6  9  4  8\n",
      " [721]  3  3  3  5  2  5  3  7  8  5  7  7  3  6  6  4  5  4  3  4  1  9  7  3\n",
      " [745]  1 10  6  3  7  4  8  6  7  5  9  2  8  6  8  5 10  4  4  8  8  3  4  2\n",
      " [769]  4  5  3  4  4  8 10  8  8  3  7  6  5  2  2  1  8  6  4  7  3 11  2  8\n",
      " [793]  4  4  7  2  4  6  8  7  3  3  2  2  4  8  2  3  4  6  4  3  8  5  4  4\n",
      " [817]  3  4  2  4  4  7  7  4  4  7  6  1  4  5  2  8  3  5  3  5  6  5  2  4\n",
      " [841]  3  4  5  4  6  4  7  4  3  5  3  8  6  6  8  5  5  2  6  5  7  2  2  5\n",
      " [865]  4  2 10  3  5  8  9  6  6  6  4  5  7  2  9  7  4  5  3  6  6  5  1  2\n",
      " [889]  2  6  6  2  7  2  2  3  5  7  3  6  5  9  2  6  3  5  4 11  5  8  7  4\n",
      " [913]  6  3  4 12  2  5  6  6  4  3  9  5  5  3  4  4  6  5  5  8  5  2  6  9\n",
      " [937]  5  7  4  4  2  4  4  2  6  6  3  1  5  3  8  9  4  1  6  6  2  5 10  6\n",
      " [961]  0  2  3  5  7  2  7  4  2  2  5  3  4  6  5  5  8  5  6  7  7  4  7  4\n",
      " [985]  5  7  4  4  5  5  7  6  3  6  3  4  4  4  5  5  8  7  7  7  2  7  2  1\n",
      "[1009]  5  3  2  5  6  7  6  6  5  5  1  3  2  6  3  4  8  2  7  5  7  4  5  5\n",
      "[1033] 10  5  5  6  5  7  6  6  6  2  4  6  6  5  4  3  8  4  6  5  8  7  4  1\n",
      "[1057]  7  3  5  7  3  3  5  5  7  5  5  6  7  6  2  7  3  9  7  5  2  2  6  2\n",
      "[1081]  4  6  3  7  6  5  7  5  7  5  2  9  7  5  8  9  4  4 10  3  7  2  7  1\n",
      "[1105]  9  2  4  6  6  1  4  5  6  8  5  2  3  6  2  5  3  3  3  4  3  2  5  5\n",
      "[1129]  5  6  5  4  7  3  3  6  3  6  7  9  2  2  6  5  7  8  8  6  8  8  9  3\n",
      "[1153]  7  7  3  1  2  6  2  1  3  4  2  1  2  0  4  7  4  5  4  8  7  4  8  5\n",
      "[1177]  6  8  4  7  9  5  4  3  6  2  6  2  6  6  2  6  6 10  8 10  3  4  7  4\n",
      "[1201]  4  5  4  2  2  4  5  6  5  3  5  6  6  4  8  6  4  2  3  0  5  2  6  5\n",
      "[1225]  6  5  4  2  3  5  4  4  6  1  1  5  2  1  3  4  4  6  8  2  3  3  4  6\n",
      "[1249]  4  6  2  4  6  4  3  9  3  5  6  4  4  1  3  4  2  6  6  3  5  6  5  5\n",
      "[1273]  3  9  3  4  5  5  6  4  5  4  3  2  1  5  6  6  6  6  1  0  4  3  5  3\n",
      "[1297]  4  1  5  4  4  8  9  6  9  7  6  6  3  5  2  4  8  7  4  4  6  9  4  4\n",
      "[1321]  5  4  8  5  6  3  4  7  1  3  5  4  1  6  8  5  2  3  6  4  6  5  2  8\n",
      "[1345]  3  4  6  7  9  6  5  2  8  7  2  1  8  7  6  6  7  3  4  8  4  3  6  7\n",
      "[1369]  5  8  8  3  7  5  5  1  7  5 10  4  3  9  4  2  1  3  3  4  3  5  5  5\n",
      "[1393]  5  7 10  9  7  4  4  4  7  6  8  8  5  4  4  7  8  4  2  5  1  3  2  5\n",
      "[1417]  5  2  8  7  2  2  3  6  2  4  6  8  7  6  6  6  2  4  3  9  5  4  5  7\n",
      "[1441]  3  5  2  6 10  3  4  8  3  5  5  2  5  3  3  6  4  5  5  3  5  3 14  5\n",
      "[1465]  4 10  4  3  4  2  7  6  5  4  2  7  7  5  5  6  5  2  1  4 12  3  3  6\n",
      "[1489]  6  5  5  4  5  5  2  9  5  3  8  1  6  8  2  3  3  5  8  7  5  6  6  5\n",
      "[1513]  4  2 10  6  6  6  5  3  5  4  6  3  7  4  7  5  4  5  8  6  7  4  4  1\n",
      "[1537]  1  3  4  3  5  5  1  4  4  6  5  3  7  6  2  4  3  4  0  4  3  5  6 10\n",
      "[1561]  7  6  3 10  6  7  4  7  5  2  6  4 10  2  3  1  8  5  6  8  9  8  5  5\n",
      "[1585]  6  5  5  3  5  5  4  6  6  3  6  4  5  6  5  8 10  3  4  5  5  4  6  6\n",
      "[1609]  4 11  5  6  4  9  4  8  3  3  5  5  4  6  3  8  4  6  5  7  5  4  3  7\n",
      "[1633]  7  5  4  5  6  3  3  3  4  5  9  2  3  7  2  6  5  5 11  4  6  4  3  4\n",
      "[1657]  8  5  5  7  3  3  4  3  5  6  4  8  3  3  3  5  6  3  6  4  3  3  7  7\n",
      "[1681]  7  6  4  7  2  5  5  2  4  7  4  5  8  6  5  1  3  2  4  3  2  4  8  2\n",
      "[1705]  3  7  5  6  7  5  6  3  6  6  3  3  1  2  5  1 10  5  3  5  4  1  6  5\n",
      "[1729]  7  5  6  2  7  8  4  8  8  3  7  6  4  8  5  5  3  5  4  3  2  6  8  2\n",
      "[1753]  5  4  4  4  4  5  1  7  6  5  6  4  1  2  5  6  5  6  3  7  4  8  3  3\n",
      "[1777]  6  4  9  4  6 12  7  4  7  5  4  5  5  6  2  4  8  2  4  7  7  6  9  4\n",
      "[1801]  5  4  7  1  7  2  7  6  4  4  4  7  2  5  4  2  4  4 10  3  3  7  4  6\n",
      "[1825]  4  2  6  3  4  4  3  3  6  5  5  3  7  7  5  4  6  2  4  5  4  1  5  6\n",
      "[1849] 10  4  5  6  2  3  8  7  4  1  5  7  4  3  3  3  6  5  6  5  6  3  1  4\n",
      "[1873]  7  4  5  2  5  7  8  3 11  4  2  5  3  3  5  6  8  5  4  4  3  5  3  5\n",
      "[1897]  4  7  7  3  4  4  3  8  4  4  4  5  6  5  2  5  7  0  4  6  3  3 10  4\n",
      "[1921]  5  4  7  3  1  2  8  3  7  6  3  5  3  4  4  9  3  6  3  4  8  5  3  8\n",
      "[1945]  2  4  1  3  2  5  7  5  8  5  4  5  4  3  5  7  6  5  1  5  6  6  6  2\n",
      "[1969]  4  5  5  5  3  5  4  5  3  2  8  4  1  4  3  4  4  7  7  5  4  4  6  2\n",
      "[1993]  6  5  9 10  3  5  6  6  4  2  6  5  2  7  5  7  4  7  5  5  6  1  6  3\n",
      "[2017]  5  3  6  4  4  3  8  5  7  3  3  1  5  2  3  4  6  7  5  2  8  6  7  8\n",
      "[2041]  7  2  6  4  7  1  7  3  1  3  4  8  2  3  4  2  4  6  6  7  6  4  2  6\n",
      "[2065]  5  3  4  4  5  5  3  8  3  8  2  5  3  2  3  9  8  3  4  3  3  4  7  9\n",
      "[2089]  6  5  5  6  6  3  9  5  3  5  5  4  2  4  7  4  3  4  5  8  3  7  4  7\n",
      "[2113]  5  6  3  5  6  5  5  5  2  3  0  1  3  6  6  7  5  3  3  4  5  6  7  4\n",
      "[2137]  2  2  4  4  5  4  7  3  3  5  6  2  3  7  6  8  3  3  6  7  3  8  2  7\n",
      "[2161]  2  4  7  3  3  7  3  3  4  4  2  2  6  8  5  5  1  4  5  5  5  4  4  3\n",
      "[2185]  4  7  6  6  7  3  5  4  7  4  7  6  6  5  2  3  2  7  5  1  4  8  2  7\n",
      "[2209]  3  4  6 10  2  5  5  2  7  3  3  3  1  4  1  7  3  6  6  3  2  3  6  5\n",
      "[2233]  3  3  4  3  3  7  3  8  7  8  5  4  7  7  5  1  4  6 10  2  7  5  5  2\n",
      "[2257]  3  3  3  6  4  2  7  6  5  5  4  5  5  5  6  4  6  6  7  6  6  8  6  4\n",
      "[2281]  6  2  4  7  5  6  5  6  3  5  4  7  4  4  5  7  3  4  4  6  5  5  8  7\n",
      "[2305]  5  3  6  4  2  5  7  9  4  5  5  8  4  4  3  2  9  7  5  8  3  4  6  9\n",
      "[2329]  7  8  3  8  4  2  2  7  3  6  8  3  5  6  2  4  5  3  3  7  2  3  5  1\n",
      "[2353]  3  3  6  7  9  4  3  3  6  3  4  4  5  3  6  7  6  5  7  5  6  4  4  4\n",
      "[2377]  3  5  6  4  3  6  3  5  4  6  2  5  4  6  5  3  7  1  5  2  4  6  3  4\n",
      "[2401]  5  5  3  3  4  7  5  4  4  3  6  4  4  4  2  9  4  7  7  5  7  8  3  5\n",
      "[2425]  2  4  5  4  3  3  4  3  8  2  2  1  2  3  1  3  2  9  2  3  4  4  3  4\n",
      "[2449]  4  4  5  4  3  5  2  1  2  4  4  2  7  5  3  5  5  7  9  6  2  3  2  2\n",
      "[2473]  5  7  5  7  4  4  4  6  4  8  9  5  5  3  6  7  3  6  5  7  4  4  5  5\n",
      "[2497]  4  3  2  5  3  3  2  6  5  6  3  7  4  4  5  1  4  4  5  4  8  2  6  4\n",
      "[2521]  6  7  6  2  5  2  7  3  6  4  3  5  4  4  6  4  3  2  4  2  5  2  6  2\n",
      "[2545]  7  4  6  2  5  7  8  2  4  2  4  7  6  5  5  5  3  8  7  4  6  5  6  6\n",
      "[2569]  3  6  3  3  6  3  5  3  5  3  3  5  2  6  2  2  5  4  6  4  4  4  5  5\n",
      "[2593]  1  1  5  2  6  3  7  7  6  4  1  2  5  4  5  7  6  4  4  4  3  4  6  6\n",
      "[2617]  7  7  4  6  8  3  5  4  3  2  6  3  3  4  5  5  5  5  6  6  3  7  4  6\n",
      "[2641]  1  3  4  5  5  7  5  8  6  4  3  6  4  5  7  3  5  5  7  7  4  6  4  3\n",
      "[2665]  6  3  4  5  3  4  4  6  3  6  5  3  4  4  5  5  4  6  3  6  5  3  5  5\n",
      "[2689]  4  3  4  4  4  2  7  7  5  6  3  2  4  7  3  3  4  7  3  5  6  9  5  5\n",
      "[2713]  2  3  3  7  6  5  3  4 10  8  4  5  6  7  4  3  2  2  5  4  5  5  2  5\n",
      "[2737]  3  4  5  4  6  2  1  7 11  6  4  4  3  2  5  7  2  6  4  2  4  5  2  3\n",
      "[2761]  6  8  3  5  8  6  2  4  3  6  7  1  6  4  5  3  4  6  3  5  3  4  9  3\n",
      "[2785]  6  9  3  3  3  4  4  5  4  9  4  5  3  3  5  6  3  5  4  6  4  4  4  4\n",
      "[2809]  8  6  3  7  6  5  9  4  6  8  6  3  5  7  5  5  7  2  9  6  5  7  3  7\n",
      "[2833]  5  8  4  4  3  4  8  7  7  6  6  4  5  4  3  4  5  8  5  4  6  4  2  5\n",
      "[2857]  8  5  4  1  3 11  7  4  4  5  5  4  5  5  6  7  3  9  4  3  3  6  4  4\n",
      "[2881]  6  7  1  4  3  3  3  6  3  6  5  9  4  5  4  5  2  4  2  5  6  3  7  5\n",
      "[2905]  4  4  5  8  4  2  2  6  5  4  5  2  7  4  8  4  6  4  5  2  4  4  5  7\n",
      "[2929]  7  3  3  1  5  4 11  4  4  4  5  1  3  2  5  5  6  3  7  3  4  8  5  7\n",
      "[2953]  7  2  6  4  3  1  6  4  2  5  3  5  4  7  3  5  6  4  5  2  3  5  7  3\n",
      "[2977]  3  4  4  3  5  5  5  5  9  3  5  6  3  6  5  4  5  7  5  5  3  5  4  6\n",
      "[3001]  5  2  6  1  4  7  4  5  7  7  8  5  7  4  7  3  5  7  3  4  4  2  2  3\n",
      "[3025]  6  4  5  4  6  1  2  2  5  5  3  4  3  3  5  3  2  6  3  6  4  3  3  6\n",
      "[3049]  4  4  3  3  3  3  5  4  4  2  4  6  3  1  4  5  6  6  4  6  8  6  2  5\n",
      "[3073]  3  4  6  6  7  1  3  4  4  5  3  1  4  4  6  6  4  3  3  5  5  5  5 10\n",
      "[3097]  1  9  4  4  6  6  3  4  5  6  3  4  3  3  3  2  4  2  8  9  4  8  5  1\n",
      "[3121]  3  3  3  3  6  4  6  5  8  3  5  3  5  4  5  5  5  3  4  2  7  1  5  4\n",
      "[3145]  4  8  5  4  4  3  2  3  3  6  7  4  3  4  6  4  4  2  1  5  3  2  2  2\n",
      "[3169]  5  2  6  5  9  5  3  2  8  3  4  4  4  7  5  5  3  5  3  3  2  2  4  5\n",
      "[3193]  5  2  1  3  3  1  4  3  6  3  2  4  3  6  8  1  7  5  5  5  4  4  3  6\n",
      "[3217]  3  4  5  5  5  5  1  6  2  6  3 11  3  7  3  2  6  5  4  6  2  3 10  3\n",
      "[3241]  4  4  5  5  3  4  5  4  4  3  3  5  5  7  4  6  4  3  6  2  3  7  3  6\n",
      "[3265]  6  5  3  6  4  5  5  4  3  5  6  4  5  3  2  1  5  4  5  7  5  3  6  5\n",
      "[3289]  4  6 10  9  4  3  4  5  3  4  3  5  5  2  6  2  4  5  4  7  1  2  5  5\n",
      "[3313]  2  4  3  4  3  4  5  2  8  6  4  3  3  5  3  7  2  2  4  5  4  8  6  5\n",
      "[3337]  5  1  2  3  4  4  4  6  5  5  4  3  3  6  2  4  4  3  5  7  3  3  7  3\n",
      "[3361] 10  5  4  6  5  4  2  5  3  3  5  3  6  8  4  4  4  2  5  5  6  5  6  7\n",
      "[3385]  4  3  2  6  3  3  4  4  8  3  3  4  2  4  1  5  3  4  5  4  4  4  1  1\n",
      "[3409]  5  4  4  6  3  6  5  5  3  6  7  3  6  0  6  4  6  3  4  4  4  8  5  5\n",
      "[3433]  6  5  5  4  5  5  6  4  4  6  4  4  6  4  4  4  2  2  3  5  2  4  3  2\n",
      "[3457]  5  4  3  6  5  2  5  3  3  5  3  3  3  5  2  3  3  4  2  7  5  2  3  8\n",
      "[3481]  4  3  4  4  3  2  1  4  3  5  4  5  8  7  3  3  3  6  6  4  4  7  9  8\n",
      "[3505]  4  1  6  6  3  4  6  6  4  2  1  6  4  5  7  5  6  3  4  2  4  4  5  4\n",
      "[3529]  1  2  2  3  4  7  6  6  3  5  2  5  8  4  7  3  3  6  2  3  2  5  4  3\n",
      "[3553]  4  4  6  5  2  5  3  3  2  4  4  2  5  5  3  5  4  3  2  1  7  3  7  4\n",
      "[3577]  5  3  4  4  4  5  4  2  3  5  6  3  4  4  4  4  1  6  4  3  2  4  6  6\n",
      "[3601]  4  3  4  3  5  3  3  5  5  5  3  2  7  3  7  5  6  2  1  4  6  3  3  5\n",
      "[3625]  4  3  4  2  3  5  8  1  5  5  2  2  5  4  2  5  4  2  4  2  3  2  4  4\n",
      "[3649]  2  4  5  6  4  3  4  3  5  4  1  4  3  3  7  3  3  6  2  3  4  3  5  2\n",
      "[3673]  4  6  7  6  5  4  4  6  5  6  3  3  3  5  4  6  4  7  7  7  7  5  3  5\n",
      "[3697]  4  4  6  3  3  1  5  5  5  4  2  6  2  5  3  8  3  5  4  4  3  3  4  2\n",
      "[3721]  4  4  7  2  2  3  6  4  4  3  3  6  4  7  4  6  3  1  1  2  3  3  3  4\n",
      "[3745]  4  5  7  2  4  3  2  5  6  4  5  6  2  4  4  4  1  2  7  4  4  4  3  4\n",
      "[3769]  5  3  2  4  6  3  4  3  4  1  3  5  6  2  4  1  4  3  6  6  3  3  3  6\n",
      "[3793]  3  3  3  1  5  8  5  2  6  5  6  4  5  4  4  4  4  3  3  8  2  3  4  5\n",
      "[3817]  5  2  1  4  4  4  3  6  2  2  2  6  5  4  3  2  6  2  3  4  4  4  3  3\n",
      "[3841]  2  6  4  3  4  5  4  6  7  1  4  4  5  5  5  5  3  3  3 10  4  5  5  4\n",
      "[3865]  5  5  3  4  3  3  4  4  6  2  4  4  5  5  2  6  2  5  3  5  2  3  2  5\n",
      "[3889]  3  3  4  4  5  5  6  3  4  2  5  3  6  6  5  3  4  6  5  2  2  6  5  4\n",
      "[3913]  6  5  4  2  3  5  4  4  5  2  4  6  4  6  4  6  4  4  5  5  4  2  3  3\n",
      "[3937]  8  8  3  5  3  4  2  5  5  4  4  6  4  7  1  4  3  2  3  4  3  4  5  6\n",
      "[3961]  5  8  6  6  3  4  3  7  2  6  3  5  4  2  3  5  5  3  6  4  4  2  2  4\n",
      "[3985]  5  2  3  3  5  1  5  5  2  6  4  2  3  3  5  4  4  3  2  7  5  1  3  4\n",
      "[4009]  2  7  4  5  4  1  1  0  0  1  2  2  0  0  2  1  1  3  2  1  1  0  2  1\n",
      "[4033]  1  2  3  3  0  2  3  2  1  2  1  1  3  2  1  1  2  2  1  4  2  4  0  6\n",
      "[4057]  2  1  1  4  1  2  1  2  1  2  3  2  4  1  3  2  2  4  1  0  3  3  2  1\n",
      "[4081]  2  2  1  2  5  1  4  3  3  2  2  2  1  1  3  4  5  2  2  3  2  3  1  2\n",
      "[4105]  2  2  4  1  4  0  3  4  3  4  3  5  1  1  3  5  2  2  2  3  6  2  6  2\n",
      "[4129]  2  3  2  4  1  1  1  3  1  0  4  2  3  2  1  2  0  2  1  6  4  2  5  2\n",
      "[4153]  1  3  2  3  3  2  3  1  2  3  2  3  0  3  3  1  3  3  3  4  2  2  2  3\n",
      "[4177]  2  1  2  0  3  3  1  6  2  4  6  2  1  4  2  4  2  4  6  4  1  1  3  2\n",
      "[4201]  3  3  3  2  4  4  3  2  2  5  2  3  3  2  2  2  1  1  2  3  1  4  4  7\n",
      "[4225]  0  3  3  1  2  3  2  1  3  5  3  2  2  3  5  2  2  3  2  4  3  3  4  3\n",
      "[4249]  3  1  1  5  2  4  5  4  2  4  3  5  3  3  4  1  2  4  3  3  3  4  3  3\n",
      "[4273]  4  1  5  4  3  4  2  1  2  7  1  3  2  2  3  4  4  3  4  5  5  2  3  4\n",
      "[4297]  2  3  3  2  1  3  3  3  3  2  1  5  2  3  2  1  8  3  4  4  1  3  3  2\n",
      "[4321]  1  2  4  2  2  3  5  3  1  4  4  4  5  6  5  3  1  2  1  0  4  2  1  3\n",
      "[4345]  4  1  4  3  1  3  1  3  3  2  3  3  2  5  2  3  5  6  4  4  4  1  5  1\n",
      "[4369]  2  1  5  6  1  6  4  7  2  2  3  2  7  4  4  1  3  3  5  3  2  1  4  3\n",
      "[4393]  4  3  5  2  1  4  4  2  4  2  2  2  6  1  3  2  2  2  1  1  1  0  1  6\n",
      "[4417]  3  1  2  3  2  8  0  2  5  2  3  3  1  1  5  3  4  3  3  2  3  5  4  2\n",
      "[4441]  2  2  2  4  3  2  3  3  3  2  1  1  4  1  2  3  4  2  3  2  1  3  1  6\n",
      "[4465]  4  1  4  1  2  6  3  6  1  2  4  3  2  5  4  4  5  2  3  2  5  5  2  6\n",
      "[4489]  5  2  2  3  1  3  2  3  1  3  3  4  4  4  2  3  4  5  3  2  4  3  3  2\n",
      "[4513]  3  1  2  4  1  3  4  2  3  6  3  0  2  4  3  6  0  2  3  5  0  4  5  2\n",
      "[4537]  6  3  2  3  3  5  3  2  2  7  5  2  1  4  4  4  1  3  6  2  3  2  4  3\n",
      "[4561]  1  1  2  4  5  3  4  1  2  4  5  3  2  2  3  2  2  2  2  0  9  2  1  4\n",
      "[4585]  4  3  5  3  2  2  1  4  5  2  2  4  4  1  2  3  3  4  4  3  4  3  2  2\n",
      "[4609]  3  1  6  6  3  3  3  2  1  7  7  4  2  1  2  2  4  3  2  3  4  3  4  2\n",
      "[4633]  4  3  4  4  6  3  3  2  2  2  3  5  3  1  3  2  5  5  4  2  5  4  2  4\n",
      "[4657]  3  1  3  4  3  2  2  4  5  2  2  4  0  7  5  2  1  2  2  3  2  4  1  1\n",
      "[4681]  3  5  1  2  4  3  4  4  2  1  6  1  3  4  7  8  5  1  3  3  2  3  1  0\n",
      "[4705]  5  3  2  2  2  7  2  3  3  4  3  3  2  2  3  6  2  2  4  4  2  3  4  3\n",
      "[4729]  3  5  2  4  5  1  3  2  2  4  6  1  2  3  5  0  3  3  3  2  1  3  2  2\n",
      "[4753]  1  2  2  2  3  2  4  3  4  2  5  3  2  3  5  2  3  1  1  1  3  5  3  2\n",
      "[4777]  2  1  1  6  1  2  3  1  2  4  4  3  3  3  2  2  1  2  3  4  2  2  3  2\n",
      "[4801]  3  4  5  3  2  3  4  4  4  2  3  2  3  4  4  0  1  2  3  1  2  5  5  1\n",
      "[4825]  2  1  5  2  3  4  4  3  5  2  3  1  2  2  2  3  4  2  2  1  1  4  4  3\n",
      "[4849]  4  1  2  2  1  1  2  3  6  2  3  2  2  4  1  2  2  4  2  0  4  3  4  1\n",
      "[4873]  0  2  1  2  1  3  4  2  1  1  1  2  4  2  3  4  2  1  3  2  2  1  2  2\n",
      "[4897]  1  4  1  1  3  1  2  3  2  1  3  4  4  1  3  1  1  2  2  1  0  2  2  1\n",
      "[4921]  1  2  3  3  1  0  2  2  2  1  3  2  2  1  1  1  1  1  0  2  3  1  0  0\n",
      "[4945]  0  1  1  2  1  1  0  2  3  1  2  1  1  1  1  1  1  1  1  1\n"
     ]
    }
   ],
   "source": [
    "# Initialize the two lists\n",
    "ChurnNeighbors <- rep(0, length(V(network)))\n",
    "NonChurnNeighbors <- rep(0, length(V(network)))\n",
    "count = 1 \n",
    "# Iterate over each vertex\n",
    "for (v in V(network)) {\n",
    "    # Get the neighbors of the current vertex\n",
    "    neighbors <- neighbors(network, v)\n",
    "\n",
    "    # Count the number of churned and non-churned neighbors\n",
    "    num_churned_neighbors <- sum(V(network)$churn[neighbors] == 1)\n",
    "    num_non_churned_neighbors <- sum(V(network)$churn[neighbors] == 0)\n",
    "\n",
    "    # Add the counts to the corresponding lists\n",
    "    ChurnNeighbors[count] <- as.numeric(num_churned_neighbors)\n",
    "    NonChurnNeighbors[count] <- as.numeric(num_non_churned_neighbors)\n",
    "    count <- count+1 \n",
    "}\n",
    "\n",
    "# Print the lists\n",
    "print(ChurnNeighbors)\n",
    "print(NonChurnNeighbors)\n"
   ]
  },
  {
   "cell_type": "code",
   "execution_count": 14,
   "id": "cca3bde3",
   "metadata": {},
   "outputs": [
    {
     "data": {
      "text/html": [
       "<style>\n",
       ".list-inline {list-style: none; margin:0; padding: 0}\n",
       ".list-inline>li {display: inline-block}\n",
       ".list-inline>li:not(:last-child)::after {content: \"\\00b7\"; padding: 0 .5ex}\n",
       "</style>\n",
       "<ol class=list-inline><li>3115</li><li>4488</li><li>1223</li><li>4823</li><li>4980</li><li>4359</li><li>2551</li><li>564</li><li>1143</li><li>464</li><li>1705</li><li>1311</li><li>1313</li><li>4218</li><li>1319</li><li>2434</li><li>4423</li><li>3594</li><li>4647</li><li>2201</li><li>1630</li><li>3698</li><li>1454</li><li>1743</li><li>4599</li><li>3194</li><li>3155</li><li>2502</li><li>1880</li><li>4081</li><li>4795</li><li>3976</li><li>2220</li><li>3417</li><li>3672</li><li>2742</li><li>3047</li><li>3073</li><li>4408</li><li>4203</li><li>3958</li><li>3794</li><li>4181</li><li>3825</li><li>4621</li></ol>\n",
       "\n",
       "<details>\n",
       "\t<summary style=display:list-item;cursor:pointer>\n",
       "\t\t<strong>Levels</strong>:\n",
       "\t</summary>\n",
       "\t<style>\n",
       "\t.list-inline {list-style: none; margin:0; padding: 0}\n",
       "\t.list-inline>li {display: inline-block}\n",
       "\t.list-inline>li:not(:last-child)::after {content: \"\\00b7\"; padding: 0 .5ex}\n",
       "\t</style>\n",
       "\t<ol class=list-inline><li>'1'</li><li>'10'</li><li>'100'</li><li>'1000'</li><li>'1001'</li><li>'1002'</li><li>'1003'</li><li>'1004'</li><li>'1005'</li><li>'1006'</li><li>'1007'</li><li>'1008'</li><li>'1009'</li><li>'101'</li><li>'1010'</li><li>'1011'</li><li>'1012'</li><li>'1013'</li><li>'1014'</li><li>'1015'</li><li>'1016'</li><li>'1017'</li><li>'1018'</li><li>'1019'</li><li>'102'</li><li>'1020'</li><li>'1021'</li><li>'1022'</li><li>'1023'</li><li>'1024'</li><li>'1025'</li><li>'1026'</li><li>'1027'</li><li>'1028'</li><li>'1029'</li><li>'103'</li><li>'1030'</li><li>'1031'</li><li>'1032'</li><li>'1033'</li><li>'1034'</li><li>'1035'</li><li>'1036'</li><li>'1037'</li><li>'1038'</li><li>'1039'</li><li>'104'</li><li>'1040'</li><li>'1041'</li><li>'1042'</li><li>'1043'</li><li>'1044'</li><li>'1045'</li><li>'1046'</li><li>'1047'</li><li>'1048'</li><li>'1049'</li><li>'105'</li><li>'1050'</li><li>'1051'</li><li>'1052'</li><li>'1053'</li><li>'1054'</li><li>'1055'</li><li>'1056'</li><li>'1057'</li><li>'1058'</li><li>'1059'</li><li>'106'</li><li>'1060'</li><li>'1061'</li><li>'1062'</li><li>'1063'</li><li>'1064'</li><li>'1065'</li><li>'1066'</li><li>'1067'</li><li>'1068'</li><li>'1069'</li><li>'107'</li><li>'1070'</li><li>'1071'</li><li>'1072'</li><li>'1073'</li><li>'1074'</li><li>'1075'</li><li>'1076'</li><li>'1077'</li><li>'1078'</li><li>'1079'</li><li>'108'</li><li>'1080'</li><li>'1081'</li><li>'1082'</li><li>'1083'</li><li>'1084'</li><li>'1085'</li><li>'1086'</li><li>'1087'</li><li>'1088'</li><li>'1089'</li><li>'109'</li><li>'1090'</li><li>'1091'</li><li>'1092'</li><li>'1093'</li><li>'1094'</li><li>'1095'</li><li>'1096'</li><li>'1097'</li><li>'1098'</li><li>'1099'</li><li>'11'</li><li>'110'</li><li>'1100'</li><li>'1101'</li><li>'1102'</li><li>'1103'</li><li>'1104'</li><li>'1105'</li><li>'1106'</li><li>'1107'</li><li>'1108'</li><li>'1109'</li><li>'111'</li><li>'1110'</li><li>'1111'</li><li>'1112'</li><li>'1113'</li><li>'1114'</li><li>'1115'</li><li>'1116'</li><li>'1117'</li><li>'1118'</li><li>'1119'</li><li>'112'</li><li>'1120'</li><li>'1121'</li><li>'1122'</li><li>'1123'</li><li>'1124'</li><li>'1125'</li><li>'1126'</li><li>'1127'</li><li>'1128'</li><li>'1129'</li><li>'113'</li><li>'1130'</li><li>'1131'</li><li>'1132'</li><li>'1133'</li><li>'1134'</li><li>'1135'</li><li>'1136'</li><li>'1137'</li><li>'1138'</li><li>'1139'</li><li>'114'</li><li>'1140'</li><li>'1141'</li><li>'1142'</li><li>'1143'</li><li>'1144'</li><li>'1145'</li><li>'1146'</li><li>'1147'</li><li>'1148'</li><li>'1149'</li><li>'115'</li><li>'1150'</li><li>'1151'</li><li>'1152'</li><li>'1153'</li><li>'1154'</li><li>'1155'</li><li>'1156'</li><li>'1157'</li><li>'1158'</li><li>'1159'</li><li>'116'</li><li>'1160'</li><li>'1161'</li><li>'1162'</li><li>'1163'</li><li>'1164'</li><li>'1165'</li><li>'1166'</li><li>'1167'</li><li>'1168'</li><li>'1169'</li><li>'117'</li><li>'1170'</li><li>'1171'</li><li>'1172'</li><li>'1173'</li><li>'1174'</li><li>'1175'</li><li>'1176'</li><li>'1177'</li><li>'1178'</li><li>⋯</li><li>'819'</li><li>'82'</li><li>'820'</li><li>'821'</li><li>'822'</li><li>'823'</li><li>'824'</li><li>'825'</li><li>'826'</li><li>'827'</li><li>'828'</li><li>'829'</li><li>'83'</li><li>'830'</li><li>'831'</li><li>'832'</li><li>'833'</li><li>'834'</li><li>'835'</li><li>'836'</li><li>'837'</li><li>'838'</li><li>'839'</li><li>'84'</li><li>'840'</li><li>'841'</li><li>'842'</li><li>'843'</li><li>'844'</li><li>'845'</li><li>'846'</li><li>'847'</li><li>'848'</li><li>'849'</li><li>'85'</li><li>'850'</li><li>'851'</li><li>'852'</li><li>'853'</li><li>'854'</li><li>'855'</li><li>'856'</li><li>'857'</li><li>'858'</li><li>'859'</li><li>'86'</li><li>'860'</li><li>'861'</li><li>'862'</li><li>'863'</li><li>'864'</li><li>'865'</li><li>'866'</li><li>'867'</li><li>'868'</li><li>'869'</li><li>'87'</li><li>'870'</li><li>'871'</li><li>'872'</li><li>'873'</li><li>'874'</li><li>'875'</li><li>'876'</li><li>'877'</li><li>'878'</li><li>'879'</li><li>'88'</li><li>'880'</li><li>'881'</li><li>'882'</li><li>'883'</li><li>'884'</li><li>'885'</li><li>'886'</li><li>'887'</li><li>'888'</li><li>'889'</li><li>'89'</li><li>'890'</li><li>'891'</li><li>'892'</li><li>'893'</li><li>'894'</li><li>'895'</li><li>'896'</li><li>'897'</li><li>'898'</li><li>'899'</li><li>'9'</li><li>'90'</li><li>'900'</li><li>'901'</li><li>'902'</li><li>'903'</li><li>'904'</li><li>'905'</li><li>'906'</li><li>'907'</li><li>'908'</li><li>'909'</li><li>'91'</li><li>'910'</li><li>'911'</li><li>'912'</li><li>'913'</li><li>'914'</li><li>'915'</li><li>'916'</li><li>'917'</li><li>'918'</li><li>'919'</li><li>'92'</li><li>'920'</li><li>'921'</li><li>'922'</li><li>'923'</li><li>'924'</li><li>'925'</li><li>'926'</li><li>'927'</li><li>'928'</li><li>'929'</li><li>'93'</li><li>'930'</li><li>'931'</li><li>'932'</li><li>'933'</li><li>'934'</li><li>'935'</li><li>'936'</li><li>'937'</li><li>'938'</li><li>'939'</li><li>'94'</li><li>'940'</li><li>'941'</li><li>'942'</li><li>'943'</li><li>'944'</li><li>'945'</li><li>'946'</li><li>'947'</li><li>'948'</li><li>'949'</li><li>'95'</li><li>'950'</li><li>'951'</li><li>'952'</li><li>'953'</li><li>'954'</li><li>'955'</li><li>'956'</li><li>'957'</li><li>'958'</li><li>'959'</li><li>'96'</li><li>'960'</li><li>'961'</li><li>'962'</li><li>'963'</li><li>'964'</li><li>'965'</li><li>'966'</li><li>'967'</li><li>'968'</li><li>'969'</li><li>'97'</li><li>'970'</li><li>'971'</li><li>'972'</li><li>'973'</li><li>'974'</li><li>'975'</li><li>'976'</li><li>'977'</li><li>'978'</li><li>'979'</li><li>'98'</li><li>'980'</li><li>'981'</li><li>'982'</li><li>'983'</li><li>'984'</li><li>'985'</li><li>'986'</li><li>'987'</li><li>'988'</li><li>'989'</li><li>'99'</li><li>'990'</li><li>'991'</li><li>'992'</li><li>'993'</li><li>'994'</li><li>'995'</li><li>'996'</li><li>'997'</li><li>'998'</li><li>'999'</li></ol>\n",
       "</details>"
      ],
      "text/latex": [
       "\\begin{enumerate*}\n",
       "\\item 3115\n",
       "\\item 4488\n",
       "\\item 1223\n",
       "\\item 4823\n",
       "\\item 4980\n",
       "\\item 4359\n",
       "\\item 2551\n",
       "\\item 564\n",
       "\\item 1143\n",
       "\\item 464\n",
       "\\item 1705\n",
       "\\item 1311\n",
       "\\item 1313\n",
       "\\item 4218\n",
       "\\item 1319\n",
       "\\item 2434\n",
       "\\item 4423\n",
       "\\item 3594\n",
       "\\item 4647\n",
       "\\item 2201\n",
       "\\item 1630\n",
       "\\item 3698\n",
       "\\item 1454\n",
       "\\item 1743\n",
       "\\item 4599\n",
       "\\item 3194\n",
       "\\item 3155\n",
       "\\item 2502\n",
       "\\item 1880\n",
       "\\item 4081\n",
       "\\item 4795\n",
       "\\item 3976\n",
       "\\item 2220\n",
       "\\item 3417\n",
       "\\item 3672\n",
       "\\item 2742\n",
       "\\item 3047\n",
       "\\item 3073\n",
       "\\item 4408\n",
       "\\item 4203\n",
       "\\item 3958\n",
       "\\item 3794\n",
       "\\item 4181\n",
       "\\item 3825\n",
       "\\item 4621\n",
       "\\end{enumerate*}\n",
       "\n",
       "\\emph{Levels}: \\begin{enumerate*}\n",
       "\\item '1'\n",
       "\\item '10'\n",
       "\\item '100'\n",
       "\\item '1000'\n",
       "\\item '1001'\n",
       "\\item '1002'\n",
       "\\item '1003'\n",
       "\\item '1004'\n",
       "\\item '1005'\n",
       "\\item '1006'\n",
       "\\item '1007'\n",
       "\\item '1008'\n",
       "\\item '1009'\n",
       "\\item '101'\n",
       "\\item '1010'\n",
       "\\item '1011'\n",
       "\\item '1012'\n",
       "\\item '1013'\n",
       "\\item '1014'\n",
       "\\item '1015'\n",
       "\\item '1016'\n",
       "\\item '1017'\n",
       "\\item '1018'\n",
       "\\item '1019'\n",
       "\\item '102'\n",
       "\\item '1020'\n",
       "\\item '1021'\n",
       "\\item '1022'\n",
       "\\item '1023'\n",
       "\\item '1024'\n",
       "\\item '1025'\n",
       "\\item '1026'\n",
       "\\item '1027'\n",
       "\\item '1028'\n",
       "\\item '1029'\n",
       "\\item '103'\n",
       "\\item '1030'\n",
       "\\item '1031'\n",
       "\\item '1032'\n",
       "\\item '1033'\n",
       "\\item '1034'\n",
       "\\item '1035'\n",
       "\\item '1036'\n",
       "\\item '1037'\n",
       "\\item '1038'\n",
       "\\item '1039'\n",
       "\\item '104'\n",
       "\\item '1040'\n",
       "\\item '1041'\n",
       "\\item '1042'\n",
       "\\item '1043'\n",
       "\\item '1044'\n",
       "\\item '1045'\n",
       "\\item '1046'\n",
       "\\item '1047'\n",
       "\\item '1048'\n",
       "\\item '1049'\n",
       "\\item '105'\n",
       "\\item '1050'\n",
       "\\item '1051'\n",
       "\\item '1052'\n",
       "\\item '1053'\n",
       "\\item '1054'\n",
       "\\item '1055'\n",
       "\\item '1056'\n",
       "\\item '1057'\n",
       "\\item '1058'\n",
       "\\item '1059'\n",
       "\\item '106'\n",
       "\\item '1060'\n",
       "\\item '1061'\n",
       "\\item '1062'\n",
       "\\item '1063'\n",
       "\\item '1064'\n",
       "\\item '1065'\n",
       "\\item '1066'\n",
       "\\item '1067'\n",
       "\\item '1068'\n",
       "\\item '1069'\n",
       "\\item '107'\n",
       "\\item '1070'\n",
       "\\item '1071'\n",
       "\\item '1072'\n",
       "\\item '1073'\n",
       "\\item '1074'\n",
       "\\item '1075'\n",
       "\\item '1076'\n",
       "\\item '1077'\n",
       "\\item '1078'\n",
       "\\item '1079'\n",
       "\\item '108'\n",
       "\\item '1080'\n",
       "\\item '1081'\n",
       "\\item '1082'\n",
       "\\item '1083'\n",
       "\\item '1084'\n",
       "\\item '1085'\n",
       "\\item '1086'\n",
       "\\item '1087'\n",
       "\\item '1088'\n",
       "\\item '1089'\n",
       "\\item '109'\n",
       "\\item '1090'\n",
       "\\item '1091'\n",
       "\\item '1092'\n",
       "\\item '1093'\n",
       "\\item '1094'\n",
       "\\item '1095'\n",
       "\\item '1096'\n",
       "\\item '1097'\n",
       "\\item '1098'\n",
       "\\item '1099'\n",
       "\\item '11'\n",
       "\\item '110'\n",
       "\\item '1100'\n",
       "\\item '1101'\n",
       "\\item '1102'\n",
       "\\item '1103'\n",
       "\\item '1104'\n",
       "\\item '1105'\n",
       "\\item '1106'\n",
       "\\item '1107'\n",
       "\\item '1108'\n",
       "\\item '1109'\n",
       "\\item '111'\n",
       "\\item '1110'\n",
       "\\item '1111'\n",
       "\\item '1112'\n",
       "\\item '1113'\n",
       "\\item '1114'\n",
       "\\item '1115'\n",
       "\\item '1116'\n",
       "\\item '1117'\n",
       "\\item '1118'\n",
       "\\item '1119'\n",
       "\\item '112'\n",
       "\\item '1120'\n",
       "\\item '1121'\n",
       "\\item '1122'\n",
       "\\item '1123'\n",
       "\\item '1124'\n",
       "\\item '1125'\n",
       "\\item '1126'\n",
       "\\item '1127'\n",
       "\\item '1128'\n",
       "\\item '1129'\n",
       "\\item '113'\n",
       "\\item '1130'\n",
       "\\item '1131'\n",
       "\\item '1132'\n",
       "\\item '1133'\n",
       "\\item '1134'\n",
       "\\item '1135'\n",
       "\\item '1136'\n",
       "\\item '1137'\n",
       "\\item '1138'\n",
       "\\item '1139'\n",
       "\\item '114'\n",
       "\\item '1140'\n",
       "\\item '1141'\n",
       "\\item '1142'\n",
       "\\item '1143'\n",
       "\\item '1144'\n",
       "\\item '1145'\n",
       "\\item '1146'\n",
       "\\item '1147'\n",
       "\\item '1148'\n",
       "\\item '1149'\n",
       "\\item '115'\n",
       "\\item '1150'\n",
       "\\item '1151'\n",
       "\\item '1152'\n",
       "\\item '1153'\n",
       "\\item '1154'\n",
       "\\item '1155'\n",
       "\\item '1156'\n",
       "\\item '1157'\n",
       "\\item '1158'\n",
       "\\item '1159'\n",
       "\\item '116'\n",
       "\\item '1160'\n",
       "\\item '1161'\n",
       "\\item '1162'\n",
       "\\item '1163'\n",
       "\\item '1164'\n",
       "\\item '1165'\n",
       "\\item '1166'\n",
       "\\item '1167'\n",
       "\\item '1168'\n",
       "\\item '1169'\n",
       "\\item '117'\n",
       "\\item '1170'\n",
       "\\item '1171'\n",
       "\\item '1172'\n",
       "\\item '1173'\n",
       "\\item '1174'\n",
       "\\item '1175'\n",
       "\\item '1176'\n",
       "\\item '1177'\n",
       "\\item '1178'\n",
       "\\item ⋯\n",
       "\\item '819'\n",
       "\\item '82'\n",
       "\\item '820'\n",
       "\\item '821'\n",
       "\\item '822'\n",
       "\\item '823'\n",
       "\\item '824'\n",
       "\\item '825'\n",
       "\\item '826'\n",
       "\\item '827'\n",
       "\\item '828'\n",
       "\\item '829'\n",
       "\\item '83'\n",
       "\\item '830'\n",
       "\\item '831'\n",
       "\\item '832'\n",
       "\\item '833'\n",
       "\\item '834'\n",
       "\\item '835'\n",
       "\\item '836'\n",
       "\\item '837'\n",
       "\\item '838'\n",
       "\\item '839'\n",
       "\\item '84'\n",
       "\\item '840'\n",
       "\\item '841'\n",
       "\\item '842'\n",
       "\\item '843'\n",
       "\\item '844'\n",
       "\\item '845'\n",
       "\\item '846'\n",
       "\\item '847'\n",
       "\\item '848'\n",
       "\\item '849'\n",
       "\\item '85'\n",
       "\\item '850'\n",
       "\\item '851'\n",
       "\\item '852'\n",
       "\\item '853'\n",
       "\\item '854'\n",
       "\\item '855'\n",
       "\\item '856'\n",
       "\\item '857'\n",
       "\\item '858'\n",
       "\\item '859'\n",
       "\\item '86'\n",
       "\\item '860'\n",
       "\\item '861'\n",
       "\\item '862'\n",
       "\\item '863'\n",
       "\\item '864'\n",
       "\\item '865'\n",
       "\\item '866'\n",
       "\\item '867'\n",
       "\\item '868'\n",
       "\\item '869'\n",
       "\\item '87'\n",
       "\\item '870'\n",
       "\\item '871'\n",
       "\\item '872'\n",
       "\\item '873'\n",
       "\\item '874'\n",
       "\\item '875'\n",
       "\\item '876'\n",
       "\\item '877'\n",
       "\\item '878'\n",
       "\\item '879'\n",
       "\\item '88'\n",
       "\\item '880'\n",
       "\\item '881'\n",
       "\\item '882'\n",
       "\\item '883'\n",
       "\\item '884'\n",
       "\\item '885'\n",
       "\\item '886'\n",
       "\\item '887'\n",
       "\\item '888'\n",
       "\\item '889'\n",
       "\\item '89'\n",
       "\\item '890'\n",
       "\\item '891'\n",
       "\\item '892'\n",
       "\\item '893'\n",
       "\\item '894'\n",
       "\\item '895'\n",
       "\\item '896'\n",
       "\\item '897'\n",
       "\\item '898'\n",
       "\\item '899'\n",
       "\\item '9'\n",
       "\\item '90'\n",
       "\\item '900'\n",
       "\\item '901'\n",
       "\\item '902'\n",
       "\\item '903'\n",
       "\\item '904'\n",
       "\\item '905'\n",
       "\\item '906'\n",
       "\\item '907'\n",
       "\\item '908'\n",
       "\\item '909'\n",
       "\\item '91'\n",
       "\\item '910'\n",
       "\\item '911'\n",
       "\\item '912'\n",
       "\\item '913'\n",
       "\\item '914'\n",
       "\\item '915'\n",
       "\\item '916'\n",
       "\\item '917'\n",
       "\\item '918'\n",
       "\\item '919'\n",
       "\\item '92'\n",
       "\\item '920'\n",
       "\\item '921'\n",
       "\\item '922'\n",
       "\\item '923'\n",
       "\\item '924'\n",
       "\\item '925'\n",
       "\\item '926'\n",
       "\\item '927'\n",
       "\\item '928'\n",
       "\\item '929'\n",
       "\\item '93'\n",
       "\\item '930'\n",
       "\\item '931'\n",
       "\\item '932'\n",
       "\\item '933'\n",
       "\\item '934'\n",
       "\\item '935'\n",
       "\\item '936'\n",
       "\\item '937'\n",
       "\\item '938'\n",
       "\\item '939'\n",
       "\\item '94'\n",
       "\\item '940'\n",
       "\\item '941'\n",
       "\\item '942'\n",
       "\\item '943'\n",
       "\\item '944'\n",
       "\\item '945'\n",
       "\\item '946'\n",
       "\\item '947'\n",
       "\\item '948'\n",
       "\\item '949'\n",
       "\\item '95'\n",
       "\\item '950'\n",
       "\\item '951'\n",
       "\\item '952'\n",
       "\\item '953'\n",
       "\\item '954'\n",
       "\\item '955'\n",
       "\\item '956'\n",
       "\\item '957'\n",
       "\\item '958'\n",
       "\\item '959'\n",
       "\\item '96'\n",
       "\\item '960'\n",
       "\\item '961'\n",
       "\\item '962'\n",
       "\\item '963'\n",
       "\\item '964'\n",
       "\\item '965'\n",
       "\\item '966'\n",
       "\\item '967'\n",
       "\\item '968'\n",
       "\\item '969'\n",
       "\\item '97'\n",
       "\\item '970'\n",
       "\\item '971'\n",
       "\\item '972'\n",
       "\\item '973'\n",
       "\\item '974'\n",
       "\\item '975'\n",
       "\\item '976'\n",
       "\\item '977'\n",
       "\\item '978'\n",
       "\\item '979'\n",
       "\\item '98'\n",
       "\\item '980'\n",
       "\\item '981'\n",
       "\\item '982'\n",
       "\\item '983'\n",
       "\\item '984'\n",
       "\\item '985'\n",
       "\\item '986'\n",
       "\\item '987'\n",
       "\\item '988'\n",
       "\\item '989'\n",
       "\\item '99'\n",
       "\\item '990'\n",
       "\\item '991'\n",
       "\\item '992'\n",
       "\\item '993'\n",
       "\\item '994'\n",
       "\\item '995'\n",
       "\\item '996'\n",
       "\\item '997'\n",
       "\\item '998'\n",
       "\\item '999'\n",
       "\\end{enumerate*}\n"
      ],
      "text/markdown": [
       "1. 3115\n",
       "2. 4488\n",
       "3. 1223\n",
       "4. 4823\n",
       "5. 4980\n",
       "6. 4359\n",
       "7. 2551\n",
       "8. 564\n",
       "9. 1143\n",
       "10. 464\n",
       "11. 1705\n",
       "12. 1311\n",
       "13. 1313\n",
       "14. 4218\n",
       "15. 1319\n",
       "16. 2434\n",
       "17. 4423\n",
       "18. 3594\n",
       "19. 4647\n",
       "20. 2201\n",
       "21. 1630\n",
       "22. 3698\n",
       "23. 1454\n",
       "24. 1743\n",
       "25. 4599\n",
       "26. 3194\n",
       "27. 3155\n",
       "28. 2502\n",
       "29. 1880\n",
       "30. 4081\n",
       "31. 4795\n",
       "32. 3976\n",
       "33. 2220\n",
       "34. 3417\n",
       "35. 3672\n",
       "36. 2742\n",
       "37. 3047\n",
       "38. 3073\n",
       "39. 4408\n",
       "40. 4203\n",
       "41. 3958\n",
       "42. 3794\n",
       "43. 4181\n",
       "44. 3825\n",
       "45. 4621\n",
       "\n",
       "\n",
       "\n",
       "**Levels**: 1. '1'\n",
       "2. '10'\n",
       "3. '100'\n",
       "4. '1000'\n",
       "5. '1001'\n",
       "6. '1002'\n",
       "7. '1003'\n",
       "8. '1004'\n",
       "9. '1005'\n",
       "10. '1006'\n",
       "11. '1007'\n",
       "12. '1008'\n",
       "13. '1009'\n",
       "14. '101'\n",
       "15. '1010'\n",
       "16. '1011'\n",
       "17. '1012'\n",
       "18. '1013'\n",
       "19. '1014'\n",
       "20. '1015'\n",
       "21. '1016'\n",
       "22. '1017'\n",
       "23. '1018'\n",
       "24. '1019'\n",
       "25. '102'\n",
       "26. '1020'\n",
       "27. '1021'\n",
       "28. '1022'\n",
       "29. '1023'\n",
       "30. '1024'\n",
       "31. '1025'\n",
       "32. '1026'\n",
       "33. '1027'\n",
       "34. '1028'\n",
       "35. '1029'\n",
       "36. '103'\n",
       "37. '1030'\n",
       "38. '1031'\n",
       "39. '1032'\n",
       "40. '1033'\n",
       "41. '1034'\n",
       "42. '1035'\n",
       "43. '1036'\n",
       "44. '1037'\n",
       "45. '1038'\n",
       "46. '1039'\n",
       "47. '104'\n",
       "48. '1040'\n",
       "49. '1041'\n",
       "50. '1042'\n",
       "51. '1043'\n",
       "52. '1044'\n",
       "53. '1045'\n",
       "54. '1046'\n",
       "55. '1047'\n",
       "56. '1048'\n",
       "57. '1049'\n",
       "58. '105'\n",
       "59. '1050'\n",
       "60. '1051'\n",
       "61. '1052'\n",
       "62. '1053'\n",
       "63. '1054'\n",
       "64. '1055'\n",
       "65. '1056'\n",
       "66. '1057'\n",
       "67. '1058'\n",
       "68. '1059'\n",
       "69. '106'\n",
       "70. '1060'\n",
       "71. '1061'\n",
       "72. '1062'\n",
       "73. '1063'\n",
       "74. '1064'\n",
       "75. '1065'\n",
       "76. '1066'\n",
       "77. '1067'\n",
       "78. '1068'\n",
       "79. '1069'\n",
       "80. '107'\n",
       "81. '1070'\n",
       "82. '1071'\n",
       "83. '1072'\n",
       "84. '1073'\n",
       "85. '1074'\n",
       "86. '1075'\n",
       "87. '1076'\n",
       "88. '1077'\n",
       "89. '1078'\n",
       "90. '1079'\n",
       "91. '108'\n",
       "92. '1080'\n",
       "93. '1081'\n",
       "94. '1082'\n",
       "95. '1083'\n",
       "96. '1084'\n",
       "97. '1085'\n",
       "98. '1086'\n",
       "99. '1087'\n",
       "100. '1088'\n",
       "101. '1089'\n",
       "102. '109'\n",
       "103. '1090'\n",
       "104. '1091'\n",
       "105. '1092'\n",
       "106. '1093'\n",
       "107. '1094'\n",
       "108. '1095'\n",
       "109. '1096'\n",
       "110. '1097'\n",
       "111. '1098'\n",
       "112. '1099'\n",
       "113. '11'\n",
       "114. '110'\n",
       "115. '1100'\n",
       "116. '1101'\n",
       "117. '1102'\n",
       "118. '1103'\n",
       "119. '1104'\n",
       "120. '1105'\n",
       "121. '1106'\n",
       "122. '1107'\n",
       "123. '1108'\n",
       "124. '1109'\n",
       "125. '111'\n",
       "126. '1110'\n",
       "127. '1111'\n",
       "128. '1112'\n",
       "129. '1113'\n",
       "130. '1114'\n",
       "131. '1115'\n",
       "132. '1116'\n",
       "133. '1117'\n",
       "134. '1118'\n",
       "135. '1119'\n",
       "136. '112'\n",
       "137. '1120'\n",
       "138. '1121'\n",
       "139. '1122'\n",
       "140. '1123'\n",
       "141. '1124'\n",
       "142. '1125'\n",
       "143. '1126'\n",
       "144. '1127'\n",
       "145. '1128'\n",
       "146. '1129'\n",
       "147. '113'\n",
       "148. '1130'\n",
       "149. '1131'\n",
       "150. '1132'\n",
       "151. '1133'\n",
       "152. '1134'\n",
       "153. '1135'\n",
       "154. '1136'\n",
       "155. '1137'\n",
       "156. '1138'\n",
       "157. '1139'\n",
       "158. '114'\n",
       "159. '1140'\n",
       "160. '1141'\n",
       "161. '1142'\n",
       "162. '1143'\n",
       "163. '1144'\n",
       "164. '1145'\n",
       "165. '1146'\n",
       "166. '1147'\n",
       "167. '1148'\n",
       "168. '1149'\n",
       "169. '115'\n",
       "170. '1150'\n",
       "171. '1151'\n",
       "172. '1152'\n",
       "173. '1153'\n",
       "174. '1154'\n",
       "175. '1155'\n",
       "176. '1156'\n",
       "177. '1157'\n",
       "178. '1158'\n",
       "179. '1159'\n",
       "180. '116'\n",
       "181. '1160'\n",
       "182. '1161'\n",
       "183. '1162'\n",
       "184. '1163'\n",
       "185. '1164'\n",
       "186. '1165'\n",
       "187. '1166'\n",
       "188. '1167'\n",
       "189. '1168'\n",
       "190. '1169'\n",
       "191. '117'\n",
       "192. '1170'\n",
       "193. '1171'\n",
       "194. '1172'\n",
       "195. '1173'\n",
       "196. '1174'\n",
       "197. '1175'\n",
       "198. '1176'\n",
       "199. '1177'\n",
       "200. '1178'\n",
       "201. ⋯\n",
       "202. '819'\n",
       "203. '82'\n",
       "204. '820'\n",
       "205. '821'\n",
       "206. '822'\n",
       "207. '823'\n",
       "208. '824'\n",
       "209. '825'\n",
       "210. '826'\n",
       "211. '827'\n",
       "212. '828'\n",
       "213. '829'\n",
       "214. '83'\n",
       "215. '830'\n",
       "216. '831'\n",
       "217. '832'\n",
       "218. '833'\n",
       "219. '834'\n",
       "220. '835'\n",
       "221. '836'\n",
       "222. '837'\n",
       "223. '838'\n",
       "224. '839'\n",
       "225. '84'\n",
       "226. '840'\n",
       "227. '841'\n",
       "228. '842'\n",
       "229. '843'\n",
       "230. '844'\n",
       "231. '845'\n",
       "232. '846'\n",
       "233. '847'\n",
       "234. '848'\n",
       "235. '849'\n",
       "236. '85'\n",
       "237. '850'\n",
       "238. '851'\n",
       "239. '852'\n",
       "240. '853'\n",
       "241. '854'\n",
       "242. '855'\n",
       "243. '856'\n",
       "244. '857'\n",
       "245. '858'\n",
       "246. '859'\n",
       "247. '86'\n",
       "248. '860'\n",
       "249. '861'\n",
       "250. '862'\n",
       "251. '863'\n",
       "252. '864'\n",
       "253. '865'\n",
       "254. '866'\n",
       "255. '867'\n",
       "256. '868'\n",
       "257. '869'\n",
       "258. '87'\n",
       "259. '870'\n",
       "260. '871'\n",
       "261. '872'\n",
       "262. '873'\n",
       "263. '874'\n",
       "264. '875'\n",
       "265. '876'\n",
       "266. '877'\n",
       "267. '878'\n",
       "268. '879'\n",
       "269. '88'\n",
       "270. '880'\n",
       "271. '881'\n",
       "272. '882'\n",
       "273. '883'\n",
       "274. '884'\n",
       "275. '885'\n",
       "276. '886'\n",
       "277. '887'\n",
       "278. '888'\n",
       "279. '889'\n",
       "280. '89'\n",
       "281. '890'\n",
       "282. '891'\n",
       "283. '892'\n",
       "284. '893'\n",
       "285. '894'\n",
       "286. '895'\n",
       "287. '896'\n",
       "288. '897'\n",
       "289. '898'\n",
       "290. '899'\n",
       "291. '9'\n",
       "292. '90'\n",
       "293. '900'\n",
       "294. '901'\n",
       "295. '902'\n",
       "296. '903'\n",
       "297. '904'\n",
       "298. '905'\n",
       "299. '906'\n",
       "300. '907'\n",
       "301. '908'\n",
       "302. '909'\n",
       "303. '91'\n",
       "304. '910'\n",
       "305. '911'\n",
       "306. '912'\n",
       "307. '913'\n",
       "308. '914'\n",
       "309. '915'\n",
       "310. '916'\n",
       "311. '917'\n",
       "312. '918'\n",
       "313. '919'\n",
       "314. '92'\n",
       "315. '920'\n",
       "316. '921'\n",
       "317. '922'\n",
       "318. '923'\n",
       "319. '924'\n",
       "320. '925'\n",
       "321. '926'\n",
       "322. '927'\n",
       "323. '928'\n",
       "324. '929'\n",
       "325. '93'\n",
       "326. '930'\n",
       "327. '931'\n",
       "328. '932'\n",
       "329. '933'\n",
       "330. '934'\n",
       "331. '935'\n",
       "332. '936'\n",
       "333. '937'\n",
       "334. '938'\n",
       "335. '939'\n",
       "336. '94'\n",
       "337. '940'\n",
       "338. '941'\n",
       "339. '942'\n",
       "340. '943'\n",
       "341. '944'\n",
       "342. '945'\n",
       "343. '946'\n",
       "344. '947'\n",
       "345. '948'\n",
       "346. '949'\n",
       "347. '95'\n",
       "348. '950'\n",
       "349. '951'\n",
       "350. '952'\n",
       "351. '953'\n",
       "352. '954'\n",
       "353. '955'\n",
       "354. '956'\n",
       "355. '957'\n",
       "356. '958'\n",
       "357. '959'\n",
       "358. '96'\n",
       "359. '960'\n",
       "360. '961'\n",
       "361. '962'\n",
       "362. '963'\n",
       "363. '964'\n",
       "364. '965'\n",
       "365. '966'\n",
       "366. '967'\n",
       "367. '968'\n",
       "368. '969'\n",
       "369. '97'\n",
       "370. '970'\n",
       "371. '971'\n",
       "372. '972'\n",
       "373. '973'\n",
       "374. '974'\n",
       "375. '975'\n",
       "376. '976'\n",
       "377. '977'\n",
       "378. '978'\n",
       "379. '979'\n",
       "380. '98'\n",
       "381. '980'\n",
       "382. '981'\n",
       "383. '982'\n",
       "384. '983'\n",
       "385. '984'\n",
       "386. '985'\n",
       "387. '986'\n",
       "388. '987'\n",
       "389. '988'\n",
       "390. '989'\n",
       "391. '99'\n",
       "392. '990'\n",
       "393. '991'\n",
       "394. '992'\n",
       "395. '993'\n",
       "396. '994'\n",
       "397. '995'\n",
       "398. '996'\n",
       "399. '997'\n",
       "400. '998'\n",
       "401. '999'\n",
       "\n",
       "\n"
      ],
      "text/plain": [
       " [1] 3115 4488 1223 4823 4980 4359 2551 564  1143 464  1705 1311 1313 4218 1319\n",
       "[16] 2434 4423 3594 4647 2201 1630 3698 1454 1743 4599 3194 3155 2502 1880 4081\n",
       "[31] 4795 3976 2220 3417 3672 2742 3047 3073 4408 4203 3958 3794 4181 3825 4621\n",
       "5000 Levels: 1 10 100 1000 1001 1002 1003 1004 1005 1006 1007 1008 1009 ... 999"
      ]
     },
     "metadata": {},
     "output_type": "display_data"
    }
   ],
   "source": [
    "# Compute the churn probabilities\n",
    "churnProb <- ChurnNeighbors / (ChurnNeighbors + NonChurnNeighbors)\n",
    "\n",
    "# Find who is most likely to churn\n",
    "mostLikelyChurners <- which(churnProb == max(churnProb))\n",
    "\n",
    "# Extract the IDs of the most likely churners\n",
    "customers$id[mostLikelyChurners]"
   ]
  },
  {
   "cell_type": "code",
   "execution_count": 15,
   "id": "b51a12cb",
   "metadata": {},
   "outputs": [],
   "source": [
    "# create the neighbours count matrix\n",
    "total_neighbours = ChurnNeighbors + NonChurnNeighbors\n",
    "\n",
    "# create the adjacency matrix\n",
    "AdjacencyMatrix <- get.adjacency(network)"
   ]
  },
  {
   "cell_type": "code",
   "execution_count": 16,
   "id": "0dfc416f",
   "metadata": {},
   "outputs": [
    {
     "data": {
      "text/html": [
       "'Node numver 44'"
      ],
      "text/latex": [
       "'Node numver 44'"
      ],
      "text/markdown": [
       "'Node numver 44'"
      ],
      "text/plain": [
       "[1] \"Node numver 44\""
      ]
     },
     "metadata": {},
     "output_type": "display_data"
    },
    {
     "data": {
      "text/html": [
       "'Churners 1'"
      ],
      "text/latex": [
       "'Churners 1'"
      ],
      "text/markdown": [
       "'Churners 1'"
      ],
      "text/plain": [
       "[1] \"Churners 1\""
      ]
     },
     "metadata": {},
     "output_type": "display_data"
    },
    {
     "data": {
      "text/html": [
       "'NonChurners 3'"
      ],
      "text/latex": [
       "'NonChurners 3'"
      ],
      "text/markdown": [
       "'NonChurners 3'"
      ],
      "text/plain": [
       "[1] \"NonChurners 3\""
      ]
     },
     "metadata": {},
     "output_type": "display_data"
    },
    {
     "data": {
      "text/html": [
       "'Total Neighbours 4'"
      ],
      "text/latex": [
       "'Total Neighbours 4'"
      ],
      "text/markdown": [
       "'Total Neighbours 4'"
      ],
      "text/plain": [
       "[1] \"Total Neighbours 4\""
      ]
     },
     "metadata": {},
     "output_type": "display_data"
    },
    {
     "data": {
      "text/html": [
       "'Expected Churn Probablity 0.25'"
      ],
      "text/latex": [
       "'Expected Churn Probablity 0.25'"
      ],
      "text/markdown": [
       "'Expected Churn Probablity 0.25'"
      ],
      "text/plain": [
       "[1] \"Expected Churn Probablity 0.25\""
      ]
     },
     "metadata": {},
     "output_type": "display_data"
    },
    {
     "name": "stdout",
     "output_type": "stream",
     "text": [
      "[1] 0.25\n"
     ]
    },
    {
     "data": {
      "image/png": "[encoded data removed]",
      "text/plain": [
       "Plot with title \"\""
      ]
     },
     "metadata": {
      "image/png": {
       "height": 420,
       "width": 420
      }
     },
     "output_type": "display_data"
    }
   ],
   "source": [
    "#Check everything is giving the expected outputs \n",
    "\n",
    "# Make an ego graph\n",
    "node_number = which(V(network)$name == 45)\n",
    "\n",
    "g <- make_ego_graph(network, nodes = node_number, order = 1)[[1]]\n",
    "paste('Node numver', node_number)\n",
    "paste('Churners', ChurnNeighbors[node_number])\n",
    "paste('NonChurners', NonChurnNeighbors[node_number])\n",
    "paste('Total Neighbours', total_neighbours[node_number])\n",
    "paste('Expected Churn Probablity', ChurnNeighbors[node_number]/total_neighbours[node_number])\n",
    "print(churnProb[node_number])\n",
    "plot(g)"
   ]
  },
  {
   "cell_type": "markdown",
   "id": "68dde84f",
   "metadata": {},
   "source": [
    "#### Challanges of Netweork:\n",
    "#### 1. Train/Test splits problems\n",
    "#### 2 The nodes are not iid\n",
    "#### 3. Collective Infrence: needs simultaneously label nodes in interconnected data to reduce classification error."
   ]
  },
  {
   "cell_type": "code",
   "execution_count": 17,
   "id": "c6a1b9b9",
   "metadata": {},
   "outputs": [
    {
     "data": {
      "text/plain": [
       "+ 1/4964 vertex, named, from 3a68fe2:\n",
       "[1] 45"
      ]
     },
     "metadata": {},
     "output_type": "display_data"
    }
   ],
   "source": [
    "V(network)[44]"
   ]
  },
  {
   "cell_type": "code",
   "execution_count": 18,
   "id": "39a8714d",
   "metadata": {},
   "outputs": [
    {
     "data": {
      "text/html": [
       "0.25"
      ],
      "text/latex": [
       "0.25"
      ],
      "text/markdown": [
       "0.25"
      ],
      "text/plain": [
       "[1] 0.25"
      ]
     },
     "metadata": {},
     "output_type": "display_data"
    },
    {
     "data": {
      "text/html": [
       "0.216666666666667"
      ],
      "text/latex": [
       "0.216666666666667"
      ],
      "text/markdown": [
       "0.216666666666667"
      ],
      "text/plain": [
       "[1] 0.2166667"
      ]
     },
     "metadata": {},
     "output_type": "display_data"
    }
   ],
   "source": [
    "# Find churn probability of the 44th customer\n",
    "churnProb[44]\n",
    "\n",
    "# Update the churn probabilties and the non-churn probabilities\n",
    "churnProb_updated <- as.vector((AdjacencyMatrix %*% churnProb) / total_neighbours)\n",
    "\n",
    "# Find updated churn probability of the 44th customer\n",
    "churnProb_updated[44]"
   ]
  },
  {
   "cell_type": "code",
   "execution_count": 19,
   "id": "c5e0ce0d",
   "metadata": {},
   "outputs": [
    {
     "name": "stdout",
     "output_type": "stream",
     "text": [
      "[1] \"Percentage with the same updated churn probablity: 2.92103142626914 with larger: 54.4319097502014 with smaller: 42.6470588235294\"\n"
     ]
    }
   ],
   "source": [
    "#Check the percentage of elemnts that have a larger probablistic relational neighbours, equal, and smaller \n",
    "\n",
    "total_len <- length(churnProb)\n",
    "\n",
    "same_indices <- sum(churnProb == churnProb_updated)\n",
    "larger_indices <- sum(churnProb < churnProb_updated)\n",
    "smaller_indices <- sum(churnProb > churnProb_updated)\n",
    "\n",
    "\n",
    "sentence <- paste(\"Percentage with the same updated churn probablity:\",  same_indices/total_len *100,\n",
    "                  \"with larger:\", larger_indices/total_len *100,\n",
    "                  \"with smaller:\", smaller_indices/total_len*100)\n",
    "print(sentence)"
   ]
  },
  {
   "cell_type": "code",
   "execution_count": 20,
   "id": "c0c5f2e9",
   "metadata": {},
   "outputs": [
    {
     "name": "stderr",
     "output_type": "stream",
     "text": [
      "Setting levels: control = 0, case = 1\n",
      "\n",
      "Setting direction: controls < cases\n",
      "\n"
     ]
    },
    {
     "data": {
      "text/html": [
       "0.521525041164826"
      ],
      "text/latex": [
       "0.521525041164826"
      ],
      "text/markdown": [
       "0.521525041164826"
      ],
      "text/plain": [
       "Area under the curve: 0.5215"
      ]
     },
     "metadata": {},
     "output_type": "display_data"
    },
    {
     "name": "stderr",
     "output_type": "stream",
     "text": [
      "Setting levels: control = 0, case = 1\n",
      "\n",
      "Setting direction: controls < cases\n",
      "\n"
     ]
    },
    {
     "data": {
      "text/html": [
       "0.965686419616042"
      ],
      "text/latex": [
       "0.965686419616042"
      ],
      "text/markdown": [
       "0.965686419616042"
      ],
      "text/plain": [
       "Area under the curve: 0.9657"
      ]
     },
     "metadata": {},
     "output_type": "display_data"
    }
   ],
   "source": [
    "# Compute the AUC\n",
    "auc(customers$churn, as.vector(churnProb))\n",
    "\n",
    "# Write a for loop to update the probabilities\n",
    "for(i in 1:10){\n",
    " churnProb_ci <- as.vector((AdjacencyMatrix %*% churnProb) / total_neighbours)\n",
    "}\n",
    "\n",
    "# Compute the AUC again\n",
    "auc(customers$churn, as.vector(churnProb_ci))"
   ]
  },
  {
   "cell_type": "markdown",
   "id": "ab9e53ba",
   "metadata": {},
   "source": [
    "## Homophily: High D and small H, but not necessarily both "
   ]
  },
  {
   "cell_type": "markdown",
   "id": "d828a7fe",
   "metadata": {},
   "source": [
    "#### Calculate the count of the edges "
   ]
  },
  {
   "cell_type": "code",
   "execution_count": 21,
   "id": "26cdebbd",
   "metadata": {},
   "outputs": [
    {
     "data": {
      "text/plain": [
       "\n",
       "   0    1    2 \n",
       "8842 2996  653 "
      ]
     },
     "metadata": {},
     "output_type": "display_data"
    },
    {
     "data": {
      "text/html": [
       "<table class=\"dataframe\">\n",
       "<caption>A data.frame: 6 × 5</caption>\n",
       "<thead>\n",
       "\t<tr><th></th><th scope=col>from</th><th scope=col>to</th><th scope=col>FromLabel</th><th scope=col>ToLabel</th><th scope=col>edgeType</th></tr>\n",
       "\t<tr><th></th><th scope=col>&lt;fct&gt;</th><th scope=col>&lt;fct&gt;</th><th scope=col>&lt;dbl&gt;</th><th scope=col>&lt;dbl&gt;</th><th scope=col>&lt;dbl&gt;</th></tr>\n",
       "</thead>\n",
       "<tbody>\n",
       "\t<tr><th scope=row>13</th><td>3</td><td>2051</td><td>1</td><td>1</td><td>2</td></tr>\n",
       "\t<tr><th scope=row>17</th><td>6</td><td>957 </td><td>1</td><td>1</td><td>2</td></tr>\n",
       "\t<tr><th scope=row>20</th><td>6</td><td>4061</td><td>1</td><td>1</td><td>2</td></tr>\n",
       "\t<tr><th scope=row>22</th><td>7</td><td>25  </td><td>1</td><td>1</td><td>2</td></tr>\n",
       "\t<tr><th scope=row>23</th><td>7</td><td>2029</td><td>1</td><td>1</td><td>2</td></tr>\n",
       "\t<tr><th scope=row>29</th><td>8</td><td>476 </td><td>1</td><td>1</td><td>2</td></tr>\n",
       "</tbody>\n",
       "</table>\n"
      ],
      "text/latex": [
       "A data.frame: 6 × 5\n",
       "\\begin{tabular}{r|lllll}\n",
       "  & from & to & FromLabel & ToLabel & edgeType\\\\\n",
       "  & <fct> & <fct> & <dbl> & <dbl> & <dbl>\\\\\n",
       "\\hline\n",
       "\t13 & 3 & 2051 & 1 & 1 & 2\\\\\n",
       "\t17 & 6 & 957  & 1 & 1 & 2\\\\\n",
       "\t20 & 6 & 4061 & 1 & 1 & 2\\\\\n",
       "\t22 & 7 & 25   & 1 & 1 & 2\\\\\n",
       "\t23 & 7 & 2029 & 1 & 1 & 2\\\\\n",
       "\t29 & 8 & 476  & 1 & 1 & 2\\\\\n",
       "\\end{tabular}\n"
      ],
      "text/markdown": [
       "\n",
       "A data.frame: 6 × 5\n",
       "\n",
       "| <!--/--> | from &lt;fct&gt; | to &lt;fct&gt; | FromLabel &lt;dbl&gt; | ToLabel &lt;dbl&gt; | edgeType &lt;dbl&gt; |\n",
       "|---|---|---|---|---|---|\n",
       "| 13 | 3 | 2051 | 1 | 1 | 2 |\n",
       "| 17 | 6 | 957  | 1 | 1 | 2 |\n",
       "| 20 | 6 | 4061 | 1 | 1 | 2 |\n",
       "| 22 | 7 | 25   | 1 | 1 | 2 |\n",
       "| 23 | 7 | 2029 | 1 | 1 | 2 |\n",
       "| 29 | 8 | 476  | 1 | 1 | 2 |\n",
       "\n"
      ],
      "text/plain": [
       "   from to   FromLabel ToLabel edgeType\n",
       "13 3    2051 1         1       2       \n",
       "17 6    957  1         1       2       \n",
       "20 6    4061 1         1       2       \n",
       "22 7    25   1         1       2       \n",
       "23 7    2029 1         1       2       \n",
       "29 8    476  1         1       2       "
      ]
     },
     "metadata": {},
     "output_type": "display_data"
    }
   ],
   "source": [
    "# Add the column edgeList$FromLabel\n",
    "edgeList$FromLabel <- customers[match(edgeList$from, customers$id), 2]\n",
    " \n",
    "# Add the column edgeList$ToLabel\n",
    "edgeList$ToLabel <- customers[match(edgeList$to, customers$id), 2]\n",
    " \n",
    "# Add the column edgeList$edgeType\n",
    "edgeList$edgeType <- edgeList$FromLabel + edgeList$ToLabel\n",
    " \n",
    "# Count the number of each type of edge\n",
    "table(edgeList$edgeType)\n",
    "\n",
    "\n",
    "head(edgeList[edgeList$edgeType == 2, ])"
   ]
  },
  {
   "cell_type": "code",
   "execution_count": 22,
   "id": "6d23addc",
   "metadata": {},
   "outputs": [
    {
     "data": {
      "text/html": [
       "12491"
      ],
      "text/latex": [
       "12491"
      ],
      "text/markdown": [
       "12491"
      ],
      "text/plain": [
       "[1] 12491"
      ]
     },
     "metadata": {},
     "output_type": "display_data"
    }
   ],
   "source": [
    "# Count churn edges\n",
    "ChurnEdges <- sum(edgeList$edgeType == 2)\n",
    " \n",
    "# Count non-churn edges\n",
    "NonChurnEdges <- sum(edgeList$edgeType == 0)\n",
    " \n",
    "# Count mixed edges\n",
    "MixedEdges <- sum(edgeList$edgeType == 1)\n",
    " \n",
    "# Count all edges\n",
    "edges <- ChurnEdges + NonChurnEdges + MixedEdges\n",
    "\n",
    "#Print the number of edges\n",
    "edges"
   ]
  },
  {
   "cell_type": "markdown",
   "id": "a80ef12e",
   "metadata": {},
   "source": [
    "#### Calculate the count of the nodes "
   ]
  },
  {
   "cell_type": "code",
   "execution_count": 23,
   "id": "c5c0cbeb",
   "metadata": {},
   "outputs": [
    {
     "data": {
      "text/html": [
       "0.00101403082244548"
      ],
      "text/latex": [
       "0.00101403082244548"
      ],
      "text/markdown": [
       "0.00101403082244548"
      ],
      "text/plain": [
       "[1] 0.001014031"
      ]
     },
     "metadata": {},
     "output_type": "display_data"
    }
   ],
   "source": [
    "# Count the number of churn nodes\n",
    "ChurnNodes <- sum(customers$churn == 1)\n",
    " \n",
    "# Count the number of non-churn nodes\n",
    "NonChurnNodes <- sum(customers$churn == 0)\n",
    " \n",
    "# Count the total number of nodes\n",
    "nodes <- ChurnNodes + NonChurnNodes\n",
    " \n",
    "# Compute the network connectance\n",
    "connectance <- 2 * edges / nodes / (nodes - 1)\n",
    "\n",
    "# Print the value\n",
    "connectance"
   ]
  },
  {
   "cell_type": "markdown",
   "id": "820b8776",
   "metadata": {},
   "source": [
    "### Dyalicity: connectedness between nodes with the same label. \n",
    "#### D>1 its dyadic and the same labels are connected together more than what we would expect in a random scenario \n",
    "#### D=1 its equivilant to random scenario\n",
    "#### D<1 ts anti-diadic and the same labels tend not to connect together"
   ]
  },
  {
   "cell_type": "code",
   "execution_count": 24,
   "id": "caab78aa",
   "metadata": {},
   "outputs": [
    {
     "data": {
      "text/html": [
       "2.15264079473376"
      ],
      "text/latex": [
       "2.15264079473376"
      ],
      "text/markdown": [
       "2.15264079473376"
      ],
      "text/plain": [
       "[1] 2.152641"
      ]
     },
     "metadata": {},
     "output_type": "display_data"
    }
   ],
   "source": [
    "# Compute the expected churn dyadicity\n",
    "ExpectedDyadChurn <- ChurnNodes * (ChurnNodes-1) * connectance / 2\n",
    " \n",
    "# Compute the churn dyadicity\n",
    "DyadChurn <- ChurnEdges / ExpectedDyadChurn\n",
    " \n",
    "# Inspect the value\n",
    "DyadChurn"
   ]
  },
  {
   "cell_type": "code",
   "execution_count": 25,
   "id": "de64a052",
   "metadata": {},
   "outputs": [
    {
     "data": {
      "text/html": [
       "0.993584863883072"
      ],
      "text/latex": [
       "0.993584863883072"
      ],
      "text/markdown": [
       "0.993584863883072"
      ],
      "text/plain": [
       "[1] 0.9935849"
      ]
     },
     "metadata": {},
     "output_type": "display_data"
    }
   ],
   "source": [
    "# Compute the expected non-churn dyadicity\n",
    "ExpectedDyadNonChurn <- NonChurnNodes * (NonChurnNodes-1) * connectance / 2\n",
    " \n",
    "# Compute the churn dyadicity\n",
    "DyadNonChurn <- NonChurnEdges / ExpectedDyadNonChurn\n",
    " \n",
    "# Inspect the value\n",
    "DyadNonChurn"
   ]
  },
  {
   "cell_type": "markdown",
   "id": "acb68633",
   "metadata": {},
   "source": [
    "### Heterophilicity: connectedness between nodes with opposite labels \n",
    "#### H>1 its hetrophilic and the opposite labels are connected together more than what we would expect in a random scenario \n",
    "#### H=1 its equivilant to random scenario\n",
    "#### H<1 ts heterophobic and the opposite labels tend not to connect together"
   ]
  },
  {
   "cell_type": "code",
   "execution_count": 26,
   "id": "97ad8523",
   "metadata": {},
   "outputs": [
    {
     "data": {
      "text/html": [
       "0.911036274227315"
      ],
      "text/latex": [
       "0.911036274227315"
      ],
      "text/markdown": [
       "0.911036274227315"
      ],
      "text/plain": [
       "[1] 0.9110363"
      ]
     },
     "metadata": {},
     "output_type": "display_data"
    }
   ],
   "source": [
    "# Compute the expected heterophilicity\n",
    "ExpectedHet <- connectance * ChurnNodes * NonChurnNodes\n",
    " \n",
    "# Compute the heterophilicity\n",
    "Het <- MixedEdges / ExpectedHet\n",
    " \n",
    "# Inspect the heterophilicity\n",
    "Het"
   ]
  },
  {
   "cell_type": "markdown",
   "id": "25f4265a",
   "metadata": {},
   "source": [
    "## Basic Network Features: Neighbourhood, Centrality, Transitivity(clustering coefficient)"
   ]
  },
  {
   "cell_type": "markdown",
   "id": "4d64e2a5",
   "metadata": {},
   "source": [
    "### Neighbourhood\n",
    "#### Degree: The number of the nodes connected to each node. Can be: First order, Second order\n",
    "#### Triangles: consists of three nodes that are all connected to each other"
   ]
  },
  {
   "cell_type": "code",
   "execution_count": 27,
   "id": "1bbd1d67",
   "metadata": {},
   "outputs": [],
   "source": [
    "# Extract network degree\n",
    "V(network)$degree <- degree(network, normalized=TRUE)"
   ]
  },
  {
   "cell_type": "code",
   "execution_count": 28,
   "id": "278e6c3b",
   "metadata": {},
   "outputs": [],
   "source": [
    "# Extract 2.order network degree\n",
    "degree2 <- neighborhood.size(network, 2)\n",
    "\n",
    "# Normalize 2.order network degree\n",
    "V(network)$degree2 <- degree2 / (length(V(network)) - 1)"
   ]
  },
  {
   "cell_type": "code",
   "execution_count": 29,
   "id": "135a9051",
   "metadata": {},
   "outputs": [],
   "source": [
    "# Extract number of triangles\n",
    "V(network)$triangles <- count_triangles(network)"
   ]
  },
  {
   "cell_type": "markdown",
   "id": "27399cc2",
   "metadata": {},
   "source": [
    "### Centrality: measures the impact nodes have on the whole network\n",
    "#### Betweeness: counts how often the shortest path between two nodes goes through a given node and gives an indication of how much information passes through a node\n",
    "#### Closness:  how many steps are required to get to every other node in the network\n"
   ]
  },
  {
   "cell_type": "code",
   "execution_count": 30,
   "id": "a03ea115",
   "metadata": {},
   "outputs": [
    {
     "data": {
      "text/html": [
       "<style>\n",
       ".list-inline {list-style: none; margin:0; padding: 0}\n",
       ".list-inline>li {display: inline-block}\n",
       ".list-inline>li:not(:last-child)::after {content: \"\\00b7\"; padding: 0 .5ex}\n",
       "</style>\n",
       "<ol class=list-inline><li>0.000192951026913301</li><li>0.00127304912543709</li><li>0.000378372379284491</li><li>7.03030045382143e-05</li><li>0.000866618637092271</li><li>0.0012448764861511</li></ol>\n"
      ],
      "text/latex": [
       "\\begin{enumerate*}\n",
       "\\item 0.000192951026913301\n",
       "\\item 0.00127304912543709\n",
       "\\item 0.000378372379284491\n",
       "\\item 7.03030045382143e-05\n",
       "\\item 0.000866618637092271\n",
       "\\item 0.0012448764861511\n",
       "\\end{enumerate*}\n"
      ],
      "text/markdown": [
       "1. 0.000192951026913301\n",
       "2. 0.00127304912543709\n",
       "3. 0.000378372379284491\n",
       "4. 7.03030045382143e-05\n",
       "5. 0.000866618637092271\n",
       "6. 0.0012448764861511\n",
       "\n",
       "\n"
      ],
      "text/plain": [
       "[1] 0.0001929510 0.0012730491 0.0003783724 0.0000703030 0.0008666186\n",
       "[6] 0.0012448765"
      ]
     },
     "metadata": {},
     "output_type": "display_data"
    }
   ],
   "source": [
    "# Extract the betweenness\n",
    "V(network)$betweenness <- betweenness(network, normalized=TRUE)\n",
    "\n",
    "head(V(network)$betweenness)"
   ]
  },
  {
   "cell_type": "code",
   "execution_count": 31,
   "id": "97578935",
   "metadata": {},
   "outputs": [
    {
     "data": {
      "text/html": [
       "<style>\n",
       ".list-inline {list-style: none; margin:0; padding: 0}\n",
       ".list-inline>li {display: inline-block}\n",
       ".list-inline>li:not(:last-child)::after {content: \"\\00b7\"; padding: 0 .5ex}\n",
       "</style>\n",
       "<ol class=list-inline><li>0.170432692307692</li><li>0.188528015194682</li><li>0.177776981767382</li><li>0.164653971202973</li><li>0.183305632502308</li><li>0.186578947368421</li></ol>\n"
      ],
      "text/latex": [
       "\\begin{enumerate*}\n",
       "\\item 0.170432692307692\n",
       "\\item 0.188528015194682\n",
       "\\item 0.177776981767382\n",
       "\\item 0.164653971202973\n",
       "\\item 0.183305632502308\n",
       "\\item 0.186578947368421\n",
       "\\end{enumerate*}\n"
      ],
      "text/markdown": [
       "1. 0.170432692307692\n",
       "2. 0.188528015194682\n",
       "3. 0.177776981767382\n",
       "4. 0.164653971202973\n",
       "5. 0.183305632502308\n",
       "6. 0.186578947368421\n",
       "\n",
       "\n"
      ],
      "text/plain": [
       "[1] 0.1704327 0.1885280 0.1777770 0.1646540 0.1833056 0.1865789"
      ]
     },
     "metadata": {},
     "output_type": "display_data"
    }
   ],
   "source": [
    "# Extract the closeness\n",
    "V(network)$closeness <- closeness(network, normalized=TRUE)\n",
    "\n",
    "head(V(network)$closeness)"
   ]
  },
  {
   "cell_type": "code",
   "execution_count": 32,
   "id": "cac1eda5",
   "metadata": {},
   "outputs": [
    {
     "data": {
      "text/html": [
       "<style>\n",
       ".list-inline {list-style: none; margin:0; padding: 0}\n",
       ".list-inline>li {display: inline-block}\n",
       ".list-inline>li:not(:last-child)::after {content: \"\\00b7\"; padding: 0 .5ex}\n",
       "</style>\n",
       "<ol class=list-inline><li>0.0728814895050607</li><li>0.221227496870606</li><li>0.113471596336759</li><li>0.049410117904307</li><li>0.174809788786708</li><li>0.212841121793314</li></ol>\n"
      ],
      "text/latex": [
       "\\begin{enumerate*}\n",
       "\\item 0.0728814895050607\n",
       "\\item 0.221227496870606\n",
       "\\item 0.113471596336759\n",
       "\\item 0.049410117904307\n",
       "\\item 0.174809788786708\n",
       "\\item 0.212841121793314\n",
       "\\end{enumerate*}\n"
      ],
      "text/markdown": [
       "1. 0.0728814895050607\n",
       "2. 0.221227496870606\n",
       "3. 0.113471596336759\n",
       "4. 0.049410117904307\n",
       "5. 0.174809788786708\n",
       "6. 0.212841121793314\n",
       "\n",
       "\n"
      ],
      "text/plain": [
       "[1] 0.07288149 0.22122750 0.11347160 0.04941012 0.17480979 0.21284112"
      ]
     },
     "metadata": {},
     "output_type": "display_data"
    }
   ],
   "source": [
    "# Extract the eigenvector centrality\n",
    "V(network)$eigenCentrality <- eigen_centrality(network, scale = TRUE)$vector\n",
    "\n",
    "head(V(network)$eigenCentrality)"
   ]
  },
  {
   "cell_type": "markdown",
   "id": "e6d103bf",
   "metadata": {},
   "source": [
    "High eigenCentrality and low closeness could suggest that the node is in a \"remote\" location in the network, far away from other nodes and difficult to reach. \n",
    "Low eigenCentrality and high betweeness could suggest that the node is located in a \"bottleneck\" area of the network, where many shortest paths converge and pass through, leading to high betweenness scores"
   ]
  },
  {
   "cell_type": "markdown",
   "id": "fbba7362",
   "metadata": {},
   "source": [
    "### Transitivity: obtained by dividing the number of triangles by the number of triads each node. Can be local per node and global for the network\n",
    "#### Triangles: 3 nodes, 3 edges\n",
    "#### Triads: 3 nodes, 2 edges"
   ]
  },
  {
   "cell_type": "markdown",
   "id": "8549ea65",
   "metadata": {},
   "source": [
    "nodes in the network are less likely to have connections to each other or to form groups cause of the low transitivity"
   ]
  },
  {
   "cell_type": "code",
   "execution_count": 33,
   "id": "242ba6d7",
   "metadata": {},
   "outputs": [
    {
     "data": {
      "text/html": [
       "0.0010539427038421"
      ],
      "text/latex": [
       "0.0010539427038421"
      ],
      "text/markdown": [
       "0.0010539427038421"
      ],
      "text/plain": [
       "[1] 0.001053943"
      ]
     },
     "metadata": {},
     "output_type": "display_data"
    }
   ],
   "source": [
    "# Extract the local transitivity\n",
    "V(network)$transitivity <- transitivity(network, type='local', isolates='zero')\n",
    "\n",
    "# Compute the network's transitivity\n",
    "transitivity(network)"
   ]
  },
  {
   "cell_type": "markdown",
   "id": "b5e41456",
   "metadata": {},
   "source": [
    "If the nodes in the network represent people, a low transitivity and high dyadicity would suggest that people tend to form connections with others who are similar or close to them, but there are few connections between different groups or communities. "
   ]
  },
  {
   "cell_type": "markdown",
   "id": "97d26086",
   "metadata": {},
   "source": [
    "## Link Based Network Features: "
   ]
  },
  {
   "cell_type": "code",
   "execution_count": 34,
   "id": "2c532923",
   "metadata": {},
   "outputs": [
    {
     "data": {
      "text/html": [
       "<table class=\"dataframe\">\n",
       "<caption>A matrix: 3 × 3 of type dbl</caption>\n",
       "<tbody>\n",
       "\t<tr><td>0</td><td>1</td><td>0</td></tr>\n",
       "\t<tr><td>1</td><td>0</td><td>1</td></tr>\n",
       "\t<tr><td>0</td><td>1</td><td>0</td></tr>\n",
       "</tbody>\n",
       "</table>\n"
      ],
      "text/latex": [
       "A matrix: 3 × 3 of type dbl\n",
       "\\begin{tabular}{lll}\n",
       "\t 0 & 1 & 0\\\\\n",
       "\t 1 & 0 & 1\\\\\n",
       "\t 0 & 1 & 0\\\\\n",
       "\\end{tabular}\n"
      ],
      "text/markdown": [
       "\n",
       "A matrix: 3 × 3 of type dbl\n",
       "\n",
       "| 0 | 1 | 0 |\n",
       "| 1 | 0 | 1 |\n",
       "| 0 | 1 | 0 |\n",
       "\n"
      ],
      "text/plain": [
       "     [,1] [,2] [,3]\n",
       "[1,] 0    1    0   \n",
       "[2,] 1    0    1   \n",
       "[3,] 0    1    0   "
      ]
     },
     "metadata": {},
     "output_type": "display_data"
    }
   ],
   "source": [
    "my_matrix <- matrix(c(0, 1, 0,\n",
    "                      1, 0, 1,\n",
    "                      0, 1, 0), nrow = 3, byrow = TRUE)\n",
    "my_matrix"
   ]
  },
  {
   "cell_type": "markdown",
   "id": "68de2781",
   "metadata": {},
   "source": [
    "Second order matrix used to check whether there is length-2 walk between two nodes "
   ]
  },
  {
   "cell_type": "code",
   "execution_count": 35,
   "id": "6959f1f7",
   "metadata": {},
   "outputs": [
    {
     "name": "stderr",
     "output_type": "stream",
     "text": [
      "  [[ suppressing 10 column names '1', '2', '3' ... ]]\n",
      "\n"
     ]
    },
    {
     "data": {
      "text/plain": [
       "10 x 10 sparse Matrix of class \"dgCMatrix\"\n",
       "                      \n",
       "1  0 . . . . . . . . .\n",
       "2  . 0 . . . . . . . .\n",
       "3  . . 0 . . . . . . .\n",
       "5  . . . 0 . . . . . .\n",
       "6  . . . . 0 . . . . 1\n",
       "7  . . . . . 0 . . . .\n",
       "8  . . . . . . 0 . . .\n",
       "9  . . . . . . . 0 . .\n",
       "10 . . . . . . . . 0 .\n",
       "11 . . . . 1 . . . . 0"
      ]
     },
     "metadata": {},
     "output_type": "display_data"
    }
   ],
   "source": [
    "# Extract the adjacency matrix\n",
    "AdjacencyMatrix <- as_adjacency_matrix(network)\n",
    "\n",
    "# Compute the second order matrix \n",
    "SecondOrderMatrix_adj <- AdjacencyMatrix %*% AdjacencyMatrix\n",
    "\n",
    "# Adjust the second order matrix\n",
    "SecondOrderMatrix <- ((SecondOrderMatrix_adj) > 0) + 0\n",
    "diag(SecondOrderMatrix) <- 0\n",
    "\n",
    "# Inspect the second order matrix\n",
    "SecondOrderMatrix[1:10, 1:10]"
   ]
  },
  {
   "cell_type": "code",
   "execution_count": 36,
   "id": "8585a770",
   "metadata": {},
   "outputs": [
    {
     "data": {
      "text/html": [
       "<style>\n",
       ".list-inline {list-style: none; margin:0; padding: 0}\n",
       ".list-inline>li {display: inline-block}\n",
       ".list-inline>li:not(:last-child)::after {content: \"\\00b7\"; padding: 0 .5ex}\n",
       "</style>\n",
       "<ol class=list-inline><li>0</li><li>0.285714285714286</li><li>0.5</li><li>0</li><li>0.2</li><li>0</li></ol>\n"
      ],
      "text/latex": [
       "\\begin{enumerate*}\n",
       "\\item 0\n",
       "\\item 0.285714285714286\n",
       "\\item 0.5\n",
       "\\item 0\n",
       "\\item 0.2\n",
       "\\item 0\n",
       "\\end{enumerate*}\n"
      ],
      "text/markdown": [
       "1. 0\n",
       "2. 0.285714285714286\n",
       "3. 0.5\n",
       "4. 0\n",
       "5. 0.2\n",
       "6. 0\n",
       "\n",
       "\n"
      ],
      "text/plain": [
       "[1] 0.0000000 0.2857143 0.5000000 0.0000000 0.2000000 0.0000000"
      ]
     },
     "metadata": {},
     "output_type": "display_data"
    }
   ],
   "source": [
    "# Compute the number of churn neighbors\n",
    "V(network)$ChurnNeighbors <- as.vector(AdjacencyMatrix %*% V(network)$churn)\n",
    "\n",
    "# Compute the number of non-churn neighbors\n",
    "V(network)$NonChurnNeighbors <- as.vector(AdjacencyMatrix %*% (1 - V(network)$churn))\n",
    "\n",
    "# Compute the relational neighbor probability\n",
    "V(network)$RelationalNeighbor <- as.vector(V(network)$ChurnNeighbors / \n",
    "    (V(network)$ChurnNeighbors + V(network)$NonChurnNeighbors))\n",
    "\n",
    "head(V(network)$RelationalNeighbor)   ##Same as the one calculated using the for loop previously"
   ]
  },
  {
   "cell_type": "code",
   "execution_count": 37,
   "id": "42e01492",
   "metadata": {},
   "outputs": [
    {
     "data": {
      "text/html": [
       "<style>\n",
       ".list-inline {list-style: none; margin:0; padding: 0}\n",
       ".list-inline>li {display: inline-block}\n",
       ".list-inline>li:not(:last-child)::after {content: \"\\00b7\"; padding: 0 .5ex}\n",
       "</style>\n",
       "<ol class=list-inline><li>0.25</li><li>0.1</li><li>0.133333333333333</li><li>0.222222222222222</li><li>0.0384615384615385</li><li>0.0740740740740741</li></ol>\n"
      ],
      "text/latex": [
       "\\begin{enumerate*}\n",
       "\\item 0.25\n",
       "\\item 0.1\n",
       "\\item 0.133333333333333\n",
       "\\item 0.222222222222222\n",
       "\\item 0.0384615384615385\n",
       "\\item 0.0740740740740741\n",
       "\\end{enumerate*}\n"
      ],
      "text/markdown": [
       "1. 0.25\n",
       "2. 0.1\n",
       "3. 0.133333333333333\n",
       "4. 0.222222222222222\n",
       "5. 0.0384615384615385\n",
       "6. 0.0740740740740741\n",
       "\n",
       "\n"
      ],
      "text/plain": [
       "[1] 0.25000000 0.10000000 0.13333333 0.22222222 0.03846154 0.07407407"
      ]
     },
     "metadata": {},
     "output_type": "display_data"
    }
   ],
   "source": [
    "# Compute the number of churners in the second order neighborhood\n",
    "V(network)$ChurnNeighbors2 <- as.vector(SecondOrderMatrix %*% V(network)$churn)\n",
    "\n",
    "# Compute the number of non-churners in the second order neighborhood\n",
    "V(network)$NonChurnNeighbors2 <- as.vector(SecondOrderMatrix %*% (1 - V(network)$churn))\n",
    "\n",
    "# Compute the relational neighbor probability in the second order neighborhood\n",
    "V(network)$RelationalNeighbor2 <- as.vector(V(network)$ChurnNeighbors2 / \n",
    "    (V(network)$ChurnNeighbors2 + V(network)$NonChurnNeighbors2))\n",
    "\n",
    "head(V(network)$RelationalNeighbor2)"
   ]
  },
  {
   "cell_type": "code",
   "execution_count": 38,
   "id": "e63ec4c0",
   "metadata": {},
   "outputs": [
    {
     "data": {
      "text/html": [
       "<style>\n",
       ".list-inline {list-style: none; margin:0; padding: 0}\n",
       ".list-inline>li {display: inline-block}\n",
       ".list-inline>li:not(:last-child)::after {content: \"\\00b7\"; padding: 0 .5ex}\n",
       "</style>\n",
       "<ol class=list-inline><li>0.00100745516824501</li><li>0.00106502403500187</li><li>0.000957082409832763</li><li>0.00110820068506951</li><li>0.00124924440862382</li><li>0.00114178252401101</li></ol>\n"
      ],
      "text/latex": [
       "\\begin{enumerate*}\n",
       "\\item 0.00100745516824501\n",
       "\\item 0.00106502403500187\n",
       "\\item 0.000957082409832763\n",
       "\\item 0.00110820068506951\n",
       "\\item 0.00124924440862382\n",
       "\\item 0.00114178252401101\n",
       "\\end{enumerate*}\n"
      ],
      "text/markdown": [
       "1. 0.00100745516824501\n",
       "2. 0.00106502403500187\n",
       "3. 0.000957082409832763\n",
       "4. 0.00110820068506951\n",
       "5. 0.00124924440862382\n",
       "6. 0.00114178252401101\n",
       "\n",
       "\n"
      ],
      "text/plain": [
       "[1] 0.0010074552 0.0010650240 0.0009570824 0.0011082007 0.0012492444\n",
       "[6] 0.0011417825"
      ]
     },
     "metadata": {},
     "output_type": "display_data"
    }
   ],
   "source": [
    "# Extract the average degree of neighboring node\n",
    "degree <- degree(network, normalized=FALSE)\n",
    "\n",
    "V(network)$averageDegree <- \n",
    "    as.vector(AdjacencyMatrix %*% V(network)$degree) / degree\n",
    "\n",
    "head(V(network)$averageDegree)"
   ]
  },
  {
   "cell_type": "code",
   "execution_count": 39,
   "id": "3298075d",
   "metadata": {},
   "outputs": [
    {
     "data": {
      "text/html": [
       "<style>\n",
       ".list-inline {list-style: none; margin:0; padding: 0}\n",
       ".list-inline>li {display: inline-block}\n",
       ".list-inline>li:not(:last-child)::after {content: \"\\00b7\"; padding: 0 .5ex}\n",
       "</style>\n",
       "<ol class=list-inline><li>0</li><li>0</li><li>0</li><li>0</li><li>0.2</li><li>0</li></ol>\n"
      ],
      "text/latex": [
       "\\begin{enumerate*}\n",
       "\\item 0\n",
       "\\item 0\n",
       "\\item 0\n",
       "\\item 0\n",
       "\\item 0.2\n",
       "\\item 0\n",
       "\\end{enumerate*}\n"
      ],
      "text/markdown": [
       "1. 0\n",
       "2. 0\n",
       "3. 0\n",
       "4. 0\n",
       "5. 0.2\n",
       "6. 0\n",
       "\n",
       "\n"
      ],
      "text/plain": [
       "[1] 0.0 0.0 0.0 0.0 0.2 0.0"
      ]
     },
     "metadata": {},
     "output_type": "display_data"
    }
   ],
   "source": [
    "# Extract the average number of triangles of neighboring nodes\n",
    "V(network)$averageTriangles <- \n",
    "    as.vector(AdjacencyMatrix %*% V(network)$triangles) / degree\n",
    "\n",
    "head(V(network)$averageTriangles)"
   ]
  },
  {
   "cell_type": "code",
   "execution_count": 40,
   "id": "ef143ece",
   "metadata": {},
   "outputs": [
    {
     "data": {
      "text/html": [
       "<style>\n",
       ".list-inline {list-style: none; margin:0; padding: 0}\n",
       ".list-inline>li {display: inline-block}\n",
       ".list-inline>li:not(:last-child)::after {content: \"\\00b7\"; padding: 0 .5ex}\n",
       "</style>\n",
       "<ol class=list-inline><li>0</li><li>0</li><li>0</li><li>0</li><li>0.00555555555555555</li><li>0</li></ol>\n"
      ],
      "text/latex": [
       "\\begin{enumerate*}\n",
       "\\item 0\n",
       "\\item 0\n",
       "\\item 0\n",
       "\\item 0\n",
       "\\item 0.00555555555555555\n",
       "\\item 0\n",
       "\\end{enumerate*}\n"
      ],
      "text/markdown": [
       "1. 0\n",
       "2. 0\n",
       "3. 0\n",
       "4. 0\n",
       "5. 0.00555555555555555\n",
       "6. 0\n",
       "\n",
       "\n"
      ],
      "text/plain": [
       "[1] 0.000000000 0.000000000 0.000000000 0.000000000 0.005555556 0.000000000"
      ]
     },
     "metadata": {},
     "output_type": "display_data"
    }
   ],
   "source": [
    "# Extract the average transitivity of neighboring nodes    \n",
    "V(network)$averageTransitivity<-\n",
    "    as.vector(AdjacencyMatrix %*% V(network)$transitivity) / degree\n",
    "\n",
    "head(V(network)$averageTransitivity)"
   ]
  },
  {
   "cell_type": "code",
   "execution_count": 41,
   "id": "3e131295",
   "metadata": {},
   "outputs": [
    {
     "data": {
      "text/html": [
       "<style>\n",
       ".list-inline {list-style: none; margin:0; padding: 0}\n",
       ".list-inline>li {display: inline-block}\n",
       ".list-inline>li:not(:last-child)::after {content: \"\\00b7\"; padding: 0 .5ex}\n",
       "</style>\n",
       "<ol class=list-inline><li>0.000794125676353556</li><li>0.000942637098637475</li><li>0.000750064620980513</li><li>0.00081073944679242</li><li>0.00123550786593794</li><li>0.00124509892819905</li></ol>\n"
      ],
      "text/latex": [
       "\\begin{enumerate*}\n",
       "\\item 0.000794125676353556\n",
       "\\item 0.000942637098637475\n",
       "\\item 0.000750064620980513\n",
       "\\item 0.00081073944679242\n",
       "\\item 0.00123550786593794\n",
       "\\item 0.00124509892819905\n",
       "\\end{enumerate*}\n"
      ],
      "text/markdown": [
       "1. 0.000794125676353556\n",
       "2. 0.000942637098637475\n",
       "3. 0.000750064620980513\n",
       "4. 0.00081073944679242\n",
       "5. 0.00123550786593794\n",
       "6. 0.00124509892819905\n",
       "\n",
       "\n"
      ],
      "text/plain": [
       "[1] 0.0007941257 0.0009426371 0.0007500646 0.0008107394 0.0012355079\n",
       "[6] 0.0012450989"
      ]
     },
     "metadata": {},
     "output_type": "display_data"
    }
   ],
   "source": [
    "# Extract the average betweenness of neighboring nodes    \n",
    "V(network)$averageBetweenness <- \n",
    "    as.vector(AdjacencyMatrix %*% V(network)$betweenness) / degree\n",
    "\n",
    "head(V(network)$averageBetweenness)"
   ]
  },
  {
   "cell_type": "markdown",
   "id": "7221f598",
   "metadata": {},
   "source": [
    "## The PageRank Algorithm"
   ]
  },
  {
   "cell_type": "code",
   "execution_count": 42,
   "id": "dbaecf38",
   "metadata": {},
   "outputs": [
    {
     "data": {
      "text/html": [
       "0"
      ],
      "text/latex": [
       "0"
      ],
      "text/markdown": [
       "0"
      ],
      "text/plain": [
       "[1] 0"
      ]
     },
     "metadata": {},
     "output_type": "display_data"
    },
    {
     "data": {
      "text/html": [
       "<style>\n",
       ".dl-inline {width: auto; margin:0; padding: 0}\n",
       ".dl-inline>dt, .dl-inline>dd {float: none; width: auto; display: inline-block}\n",
       ".dl-inline>dt::after {content: \":\\0020\"; padding-right: .5ex}\n",
       ".dl-inline>dt:not(:first-of-type) {padding-left: .5ex}\n",
       "</style><dl class=dl-inline><dt>1</dt><dd>0.00013973635795675</dd><dt>2</dt><dd>0.000271023660521006</dd><dt>3</dt><dd>0.000173202773469296</dd><dt>5</dt><dd>0.0001018776246393</dd><dt>6</dt><dd>0.000210419563298104</dd><dt>7</dt><dd>0.000256465090457401</dd></dl>\n"
      ],
      "text/latex": [
       "\\begin{description*}\n",
       "\\item[1] 0.00013973635795675\n",
       "\\item[2] 0.000271023660521006\n",
       "\\item[3] 0.000173202773469296\n",
       "\\item[5] 0.0001018776246393\n",
       "\\item[6] 0.000210419563298104\n",
       "\\item[7] 0.000256465090457401\n",
       "\\end{description*}\n"
      ],
      "text/markdown": [
       "1\n",
       ":   0.000139736357956752\n",
       ":   0.0002710236605210063\n",
       ":   0.0001732027734692965\n",
       ":   0.00010187762463936\n",
       ":   0.0002104195632981047\n",
       ":   0.000256465090457401\n",
       "\n"
      ],
      "text/plain": [
       "           1            2            3            5            6            7 \n",
       "0.0001397364 0.0002710237 0.0001732028 0.0001018776 0.0002104196 0.0002564651 "
      ]
     },
     "metadata": {},
     "output_type": "display_data"
    }
   ],
   "source": [
    "# Compute one iteration of PageRank \n",
    "iter1 <- page.rank(network, algo = 'prpack', options = list(niter = 1))$vector\n",
    "\n",
    "# Compute 10th iterations of PageRank \n",
    "iter10 <- page.rank(network, algo = 'prpack', options = list(niter = 10))$vector\n",
    "\n",
    "# Inspect the change between one and two iterations\n",
    "sum(abs(iter1 - iter10))\n",
    "\n",
    "head(iter10)"
   ]
  },
  {
   "cell_type": "markdown",
   "id": "268630e4",
   "metadata": {},
   "source": [
    "### Steps to understand why the page rank scores are the same in all iterations"
   ]
  },
  {
   "cell_type": "code",
   "execution_count": 43,
   "id": "a28214cf",
   "metadata": {},
   "outputs": [
    {
     "data": {
      "text/html": [
       "0.00101403082244548"
      ],
      "text/latex": [
       "0.00101403082244548"
      ],
      "text/markdown": [
       "0.00101403082244548"
      ],
      "text/plain": [
       "[1] 0.001014031"
      ]
     },
     "metadata": {},
     "output_type": "display_data"
    }
   ],
   "source": [
    "#Check density \n",
    "gd <- edge_density(network)\n",
    "gd"
   ]
  },
  {
   "cell_type": "markdown",
   "id": "ca434768",
   "metadata": {},
   "source": [
    "See if changing the density, would that change the page score rank difference? No change then its not a matter of the ratio of edges"
   ]
  },
  {
   "cell_type": "code",
   "execution_count": 44,
   "id": "3726c821",
   "metadata": {},
   "outputs": [
    {
     "name": "stdout",
     "output_type": "stream",
     "text": [
      "[1] 0\n"
     ]
    },
    {
     "data": {
      "text/html": [
       "<style>\n",
       ".list-inline {list-style: none; margin:0; padding: 0}\n",
       ".list-inline>li {display: inline-block}\n",
       ".list-inline>li:not(:last-child)::after {content: \"\\00b7\"; padding: 0 .5ex}\n",
       "</style>\n",
       "<ol class=list-inline><li>0.000201466084188697</li><li>0.000242473469081577</li><li>0.000248569597121446</li><li>0.000213328996432346</li><li>0.000196410060056008</li><li>0.000188188931593454</li></ol>\n"
      ],
      "text/latex": [
       "\\begin{enumerate*}\n",
       "\\item 0.000201466084188697\n",
       "\\item 0.000242473469081577\n",
       "\\item 0.000248569597121446\n",
       "\\item 0.000213328996432346\n",
       "\\item 0.000196410060056008\n",
       "\\item 0.000188188931593454\n",
       "\\end{enumerate*}\n"
      ],
      "text/markdown": [
       "1. 0.000201466084188697\n",
       "2. 0.000242473469081577\n",
       "3. 0.000248569597121446\n",
       "4. 0.000213328996432346\n",
       "5. 0.000196410060056008\n",
       "6. 0.000188188931593454\n",
       "\n",
       "\n"
      ],
      "text/plain": [
       "[1] 0.0002014661 0.0002424735 0.0002485696 0.0002133290 0.0001964101\n",
       "[6] 0.0001881889"
      ]
     },
     "metadata": {},
     "output_type": "display_data"
    }
   ],
   "source": [
    "num_nodes <- vcount(network)\n",
    "num_edges <- ecount(network)\n",
    "\n",
    "\n",
    "# Create one random graph with the same number of nodes and edges as g\n",
    "g.random <- erdos.renyi.game(n = num_nodes, p = 5 * gd, type = \"gnp\")\n",
    "\n",
    "# Compute one iteration of PageRank \n",
    "iter1_ran <- page.rank(g.random, algo = 'prpack', options = list(niter = 1))$vector\n",
    "\n",
    "# Compute 10th iterations of PageRank \n",
    "iter10_ran <- page.rank(g.random, algo = 'prpack', options = list(niter = 100))$vector\n",
    "\n",
    "# Inspect the change between one and two iterations\n",
    "print(sum(abs(iter1_ran - iter10_ran)))\n",
    "\n",
    "head(iter10_ran)"
   ]
  },
  {
   "cell_type": "markdown",
   "id": "6214dce9",
   "metadata": {},
   "source": [
    "Check if the network has a pagerank score similar to a random one with the same edges and density "
   ]
  },
  {
   "cell_type": "code",
   "execution_count": 45,
   "id": "a73d99d2",
   "metadata": {},
   "outputs": [
    {
     "data": {
      "text/html": [
       "0"
      ],
      "text/latex": [
       "0"
      ],
      "text/markdown": [
       "0"
      ],
      "text/plain": [
       "[1] 0"
      ]
     },
     "metadata": {},
     "output_type": "display_data"
    },
    {
     "data": {
      "text/html": [
       "<style>\n",
       ".list-inline {list-style: none; margin:0; padding: 0}\n",
       ".list-inline>li {display: inline-block}\n",
       ".list-inline>li:not(:last-child)::after {content: \"\\00b7\"; padding: 0 .5ex}\n",
       "</style>\n",
       "<ol class=list-inline><li>0.000201466084188697</li><li>0.000242473469081577</li><li>0.000248569597121446</li><li>0.000213328996432346</li><li>0.000196410060056008</li><li>0.000188188931593454</li></ol>\n"
      ],
      "text/latex": [
       "\\begin{enumerate*}\n",
       "\\item 0.000201466084188697\n",
       "\\item 0.000242473469081577\n",
       "\\item 0.000248569597121446\n",
       "\\item 0.000213328996432346\n",
       "\\item 0.000196410060056008\n",
       "\\item 0.000188188931593454\n",
       "\\end{enumerate*}\n"
      ],
      "text/markdown": [
       "1. 0.000201466084188697\n",
       "2. 0.000242473469081577\n",
       "3. 0.000248569597121446\n",
       "4. 0.000213328996432346\n",
       "5. 0.000196410060056008\n",
       "6. 0.000188188931593454\n",
       "\n",
       "\n"
      ],
      "text/plain": [
       "[1] 0.0002014661 0.0002424735 0.0002485696 0.0002133290 0.0001964101\n",
       "[6] 0.0001881889"
      ]
     },
     "metadata": {},
     "output_type": "display_data"
    }
   ],
   "source": [
    "# Create one random graph with the same number of nodes and edges as g\n",
    "# Generate 1000 random graphs\n",
    "\n",
    "# Compute one iteration of PageRank \n",
    "iter1_ran <- page.rank(g.random, algo = 'prpack', options = list(niter = 1))$vector\n",
    "\n",
    "# Compute 10th iterations of PageRank \n",
    "iter10_ran <- page.rank(g.random, algo = 'prpack', options = list(niter = 100))$vector\n",
    "\n",
    "# Inspect the change between one and two iterations\n",
    "sum(abs(iter1_ran - iter10_ran))\n",
    "\n",
    "head(iter10_ran)"
   ]
  },
  {
   "cell_type": "code",
   "execution_count": 46,
   "id": "8d1cdca3",
   "metadata": {},
   "outputs": [
    {
     "data": {
      "text/html": [
       "<style>\n",
       ".list-inline {list-style: none; margin:0; padding: 0}\n",
       ".list-inline>li {display: inline-block}\n",
       ".list-inline>li:not(:last-child)::after {content: \"\\00b7\"; padding: 0 .5ex}\n",
       "</style>\n",
       "<ol class=list-inline><li>0.000201466084188697</li><li>0.000242473469081577</li><li>0.000248569597121446</li><li>0.000213328996432346</li><li>0.000196410060056008</li><li>0.000188188931593454</li></ol>\n"
      ],
      "text/latex": [
       "\\begin{enumerate*}\n",
       "\\item 0.000201466084188697\n",
       "\\item 0.000242473469081577\n",
       "\\item 0.000248569597121446\n",
       "\\item 0.000213328996432346\n",
       "\\item 0.000196410060056008\n",
       "\\item 0.000188188931593454\n",
       "\\end{enumerate*}\n"
      ],
      "text/markdown": [
       "1. 0.000201466084188697\n",
       "2. 0.000242473469081577\n",
       "3. 0.000248569597121446\n",
       "4. 0.000213328996432346\n",
       "5. 0.000196410060056008\n",
       "6. 0.000188188931593454\n",
       "\n",
       "\n"
      ],
      "text/plain": [
       "[1] 0.0002014661 0.0002424735 0.0002485696 0.0002133290 0.0001964101\n",
       "[6] 0.0001881889"
      ]
     },
     "metadata": {},
     "output_type": "display_data"
    }
   ],
   "source": [
    "head(iter1_ran)"
   ]
  },
  {
   "cell_type": "code",
   "execution_count": 47,
   "id": "c9a24e19",
   "metadata": {},
   "outputs": [
    {
     "data": {
      "image/png": "[encoded data removed]",
      "text/plain": [
       "Plot with title \"Comparison of PageRank score distributions\""
      ]
     },
     "metadata": {
      "image/png": {
       "height": 420,
       "width": 420
      }
     },
     "output_type": "display_data"
    }
   ],
   "source": [
    "# Create a histogram of the scores for network 1\n",
    "hist(iter10, col=rgb(0, 0, 1, alpha=0.5), xlim=c(0, 0.001), ylim=c(0, 8000), breaks=20,\n",
    "     main=\"Comparison of PageRank score distributions\")\n",
    "# Add a line for the density of the scores for network 1\n",
    "lines(density(iter10), col=\"blue\", lwd=2)\n",
    "\n",
    "# Add a histogram of the scores for network 2\n",
    "hist(iter10_ran, col=rgb(1, 0, 0, alpha=0.5), xlim=c(0, 0.001), ylim=c(0, 6000), add=TRUE, breaks=20)\n",
    "# Add a line for the density of the scores for network 2\n",
    "lines(density(iter10_ran), col=\"red\", lwd=2)\n",
    "\n",
    "\n",
    "\n",
    "# Add a legend\n",
    "legend(\"topright\", c(\"Original Network\", \"Random Network\"), col=c(\"blue\", \"red\"), lwd=2)"
   ]
  },
  {
   "cell_type": "markdown",
   "id": "c6675b02",
   "metadata": {},
   "source": [
    "Kolmogorov-Smirnov test: A high value for p-value suggests that there is not enough evidence to reject the null hypothesis, meaning that the distribution of the PageRank scores in the two networks is not significantly different and vice-versa"
   ]
  },
  {
   "cell_type": "code",
   "execution_count": 48,
   "id": "3fbe561d",
   "metadata": {},
   "outputs": [
    {
     "name": "stderr",
     "output_type": "stream",
     "text": [
      "Warning message in ks.test.default(iter10, iter10_ran):\n",
      "\"p-value will be approximate in the presence of ties\"\n"
     ]
    },
    {
     "data": {
      "text/plain": [
       "\n",
       "\tAsymptotic two-sample Kolmogorov-Smirnov test\n",
       "\n",
       "data:  iter10 and iter10_ran\n",
       "D = 0.21857, p-value < 2.2e-16\n",
       "alternative hypothesis: two-sided\n"
      ]
     },
     "metadata": {},
     "output_type": "display_data"
    }
   ],
   "source": [
    "ks.test(iter10, iter10_ran)"
   ]
  },
  {
   "cell_type": "code",
   "execution_count": 49,
   "id": "2f1ec742",
   "metadata": {},
   "outputs": [
    {
     "data": {
      "text/html": [
       "TRUE"
      ],
      "text/latex": [
       "TRUE"
      ],
      "text/markdown": [
       "TRUE"
      ],
      "text/plain": [
       "[1] TRUE"
      ]
     },
     "metadata": {},
     "output_type": "display_data"
    }
   ],
   "source": [
    "# Check if there are any compnents that are not connected to the network\n",
    "\n",
    "is.connected(network)"
   ]
  },
  {
   "cell_type": "code",
   "execution_count": 50,
   "id": "394987be",
   "metadata": {},
   "outputs": [
    {
     "name": "stdout",
     "output_type": "stream",
     "text": [
      "PageRank scores for damping factor of 0.85 compare to 0.8:  0.02012659 \n",
      "PageRank scores for damping factor of 0.9 compare to 0.8:  0.04185224 \n"
     ]
    }
   ],
   "source": [
    "# Compute PageRank scores for damping factors of 0.8, 0.85, and 0.9\n",
    "pr_scores_d0.8 <- page_rank(network, damping = 0.8)$vector\n",
    "pr_scores_d0.85 <- page_rank(network, damping = 0.85)$vector\n",
    "pr_scores_d0.9 <- page_rank(network, damping = 0.9)$vector\n",
    "\n",
    "# Print the PageRank scores for each damping factor\n",
    "\n",
    "cat(\"PageRank scores for damping factor of 0.85 compare to 0.8: \", sum(abs(pr_scores_d0.85-pr_scores_d0.8)), \"\\n\")\n",
    "cat(\"PageRank scores for damping factor of 0.9 compare to 0.8: \", sum(abs(pr_scores_d0.9-pr_scores_d0.8)), \"\\n\")"
   ]
  },
  {
   "cell_type": "code",
   "execution_count": 51,
   "id": "3f4df32b",
   "metadata": {},
   "outputs": [
    {
     "data": {
      "image/png": "[encoded data removed]",
      "text/plain": [
       "plot without title"
      ]
     },
     "metadata": {
      "image/png": {
       "height": 420,
       "width": 420
      }
     },
     "output_type": "display_data"
    }
   ],
   "source": [
    "# Create an empty vector\n",
    "value <- c()\n",
    "\n",
    "# Write a loop to compute PageRank \n",
    "for(i in 1:15){\n",
    "  value <- cbind(value, page.rank(network, algo = 'prpack',options = list(niter = i))$vector)\n",
    "}\n",
    "  \n",
    "# Compute the differences \n",
    "difference <- colSums(abs(value[,1:14] - value[,2:15]))\n",
    "\n",
    "# Plot the differences\n",
    "plot(1:14, difference)"
   ]
  },
  {
   "cell_type": "code",
   "execution_count": 52,
   "id": "76284e49",
   "metadata": {},
   "outputs": [
    {
     "data": {
      "text/html": [
       "<pre class=language-r><code>function (graph, algo = c(\"prpack\", \"arpack\"), vids = V(graph), \n",
       "<span style=white-space:pre-wrap>    directed = TRUE, damping = 0.85, personalized = NULL, weights = NULL, </span>\n",
       "<span style=white-space:pre-wrap>    options = NULL) </span>\n",
       "{\n",
       "<span style=white-space:pre-wrap>    if (!is_igraph(graph)) {</span>\n",
       "<span style=white-space:pre-wrap>        stop(\"Not a graph object\")</span>\n",
       "<span style=white-space:pre-wrap>    }</span>\n",
       "<span style=white-space:pre-wrap>    algo &lt;- switch(igraph.match.arg(algo), arpack = 1L, prpack = 2L)</span>\n",
       "<span style=white-space:pre-wrap>    vids &lt;- as.igraph.vs(graph, vids)</span>\n",
       "<span style=white-space:pre-wrap>    directed &lt;- as.logical(directed)</span>\n",
       "<span style=white-space:pre-wrap>    damping &lt;- as.numeric(damping)</span>\n",
       "<span style=white-space:pre-wrap>    if (!is.null(personalized)) </span>\n",
       "<span style=white-space:pre-wrap>        personalized &lt;- as.numeric(personalized)</span>\n",
       "<span style=white-space:pre-wrap>    if (is.null(weights) &amp;&amp; \"weight\" %in% edge_attr_names(graph)) {</span>\n",
       "<span style=white-space:pre-wrap>        weights &lt;- E(graph)$weight</span>\n",
       "<span style=white-space:pre-wrap>    }</span>\n",
       "<span style=white-space:pre-wrap>    if (!is.null(weights) &amp;&amp; any(!is.na(weights))) {</span>\n",
       "<span style=white-space:pre-wrap>        weights &lt;- as.numeric(weights)</span>\n",
       "<span style=white-space:pre-wrap>    }</span>\n",
       "<span style=white-space:pre-wrap>    else {</span>\n",
       "<span style=white-space:pre-wrap>        weights &lt;- NULL</span>\n",
       "<span style=white-space:pre-wrap>    }</span>\n",
       "<span style=white-space:pre-wrap>    if (is.null(options)) {</span>\n",
       "<span style=white-space:pre-wrap>        if (algo == 0L) {</span>\n",
       "<span style=white-space:pre-wrap>            options &lt;- list(niter = 1000, eps = 0.001)</span>\n",
       "<span style=white-space:pre-wrap>        }</span>\n",
       "<span style=white-space:pre-wrap>        else if (algo == 1L) {</span>\n",
       "<span style=white-space:pre-wrap>            options &lt;- arpack_defaults</span>\n",
       "<span style=white-space:pre-wrap>        }</span>\n",
       "<span style=white-space:pre-wrap>        else {</span>\n",
       "<span style=white-space:pre-wrap>            options &lt;- NULL</span>\n",
       "<span style=white-space:pre-wrap>        }</span>\n",
       "<span style=white-space:pre-wrap>    }</span>\n",
       "<span style=white-space:pre-wrap>    on.exit(.Call(R_igraph_finalizer))</span>\n",
       "<span style=white-space:pre-wrap>    res &lt;- .Call(R_igraph_personalized_pagerank, graph, algo, </span>\n",
       "<span style=white-space:pre-wrap>        vids - 1, directed, damping, personalized, weights, options)</span>\n",
       "<span style=white-space:pre-wrap>    if (igraph_opt(\"add.vertex.names\") &amp;&amp; is_named(graph)) {</span>\n",
       "<span style=white-space:pre-wrap>        names(res$vector) &lt;- vertex_attr(graph, \"name\", vids)</span>\n",
       "<span style=white-space:pre-wrap>    }</span>\n",
       "<span style=white-space:pre-wrap>    res</span>\n",
       "}</code></pre>"
      ],
      "text/latex": [
       "\\begin{minted}{r}\n",
       "function (graph, algo = c(\"prpack\", \"arpack\"), vids = V(graph), \n",
       "    directed = TRUE, damping = 0.85, personalized = NULL, weights = NULL, \n",
       "    options = NULL) \n",
       "\\{\n",
       "    if (!is\\_igraph(graph)) \\{\n",
       "        stop(\"Not a graph object\")\n",
       "    \\}\n",
       "    algo <- switch(igraph.match.arg(algo), arpack = 1L, prpack = 2L)\n",
       "    vids <- as.igraph.vs(graph, vids)\n",
       "    directed <- as.logical(directed)\n",
       "    damping <- as.numeric(damping)\n",
       "    if (!is.null(personalized)) \n",
       "        personalized <- as.numeric(personalized)\n",
       "    if (is.null(weights) \\&\\& \"weight\" \\%in\\% edge\\_attr\\_names(graph)) \\{\n",
       "        weights <- E(graph)\\$weight\n",
       "    \\}\n",
       "    if (!is.null(weights) \\&\\& any(!is.na(weights))) \\{\n",
       "        weights <- as.numeric(weights)\n",
       "    \\}\n",
       "    else \\{\n",
       "        weights <- NULL\n",
       "    \\}\n",
       "    if (is.null(options)) \\{\n",
       "        if (algo == 0L) \\{\n",
       "            options <- list(niter = 1000, eps = 0.001)\n",
       "        \\}\n",
       "        else if (algo == 1L) \\{\n",
       "            options <- arpack\\_defaults\n",
       "        \\}\n",
       "        else \\{\n",
       "            options <- NULL\n",
       "        \\}\n",
       "    \\}\n",
       "    on.exit(.Call(R\\_igraph\\_finalizer))\n",
       "    res <- .Call(R\\_igraph\\_personalized\\_pagerank, graph, algo, \n",
       "        vids - 1, directed, damping, personalized, weights, options)\n",
       "    if (igraph\\_opt(\"add.vertex.names\") \\&\\& is\\_named(graph)) \\{\n",
       "        names(res\\$vector) <- vertex\\_attr(graph, \"name\", vids)\n",
       "    \\}\n",
       "    res\n",
       "\\}\n",
       "\\end{minted}"
      ],
      "text/markdown": [
       "```r\n",
       "function (graph, algo = c(\"prpack\", \"arpack\"), vids = V(graph), \n",
       "    directed = TRUE, damping = 0.85, personalized = NULL, weights = NULL, \n",
       "    options = NULL) \n",
       "{\n",
       "    if (!is_igraph(graph)) {\n",
       "        stop(\"Not a graph object\")\n",
       "    }\n",
       "    algo <- switch(igraph.match.arg(algo), arpack = 1L, prpack = 2L)\n",
       "    vids <- as.igraph.vs(graph, vids)\n",
       "    directed <- as.logical(directed)\n",
       "    damping <- as.numeric(damping)\n",
       "    if (!is.null(personalized)) \n",
       "        personalized <- as.numeric(personalized)\n",
       "    if (is.null(weights) && \"weight\" %in% edge_attr_names(graph)) {\n",
       "        weights <- E(graph)$weight\n",
       "    }\n",
       "    if (!is.null(weights) && any(!is.na(weights))) {\n",
       "        weights <- as.numeric(weights)\n",
       "    }\n",
       "    else {\n",
       "        weights <- NULL\n",
       "    }\n",
       "    if (is.null(options)) {\n",
       "        if (algo == 0L) {\n",
       "            options <- list(niter = 1000, eps = 0.001)\n",
       "        }\n",
       "        else if (algo == 1L) {\n",
       "            options <- arpack_defaults\n",
       "        }\n",
       "        else {\n",
       "            options <- NULL\n",
       "        }\n",
       "    }\n",
       "    on.exit(.Call(R_igraph_finalizer))\n",
       "    res <- .Call(R_igraph_personalized_pagerank, graph, algo, \n",
       "        vids - 1, directed, damping, personalized, weights, options)\n",
       "    if (igraph_opt(\"add.vertex.names\") && is_named(graph)) {\n",
       "        names(res$vector) <- vertex_attr(graph, \"name\", vids)\n",
       "    }\n",
       "    res\n",
       "}\n",
       "```"
      ],
      "text/plain": [
       "function (graph, algo = c(\"prpack\", \"arpack\"), vids = V(graph), \n",
       "    directed = TRUE, damping = 0.85, personalized = NULL, weights = NULL, \n",
       "    options = NULL) \n",
       "{\n",
       "    if (!is_igraph(graph)) {\n",
       "        stop(\"Not a graph object\")\n",
       "    }\n",
       "    algo <- switch(igraph.match.arg(algo), arpack = 1L, prpack = 2L)\n",
       "    vids <- as.igraph.vs(graph, vids)\n",
       "    directed <- as.logical(directed)\n",
       "    damping <- as.numeric(damping)\n",
       "    if (!is.null(personalized)) \n",
       "        personalized <- as.numeric(personalized)\n",
       "    if (is.null(weights) && \"weight\" %in% edge_attr_names(graph)) {\n",
       "        weights <- E(graph)$weight\n",
       "    }\n",
       "    if (!is.null(weights) && any(!is.na(weights))) {\n",
       "        weights <- as.numeric(weights)\n",
       "    }\n",
       "    else {\n",
       "        weights <- NULL\n",
       "    }\n",
       "    if (is.null(options)) {\n",
       "        if (algo == 0L) {\n",
       "            options <- list(niter = 1000, eps = 0.001)\n",
       "        }\n",
       "        else if (algo == 1L) {\n",
       "            options <- arpack_defaults\n",
       "        }\n",
       "        else {\n",
       "            options <- NULL\n",
       "        }\n",
       "    }\n",
       "    on.exit(.Call(R_igraph_finalizer))\n",
       "    res <- .Call(R_igraph_personalized_pagerank, graph, algo, \n",
       "        vids - 1, directed, damping, personalized, weights, options)\n",
       "    if (igraph_opt(\"add.vertex.names\") && is_named(graph)) {\n",
       "        names(res$vector) <- vertex_attr(graph, \"name\", vids)\n",
       "    }\n",
       "    res\n",
       "}\n",
       "<bytecode: 0x00000211a08e68d0>\n",
       "<environment: namespace:igraph>"
      ]
     },
     "metadata": {},
     "output_type": "display_data"
    }
   ],
   "source": [
    "# Conclusion: There is a problem in the implemetnation of the number of iterations in the latest version of igraph XD XD \n",
    "\n",
    "page_rank"
   ]
  },
  {
   "cell_type": "markdown",
   "id": "734fe47a",
   "metadata": {},
   "source": [
    "## The Personalized PageRank"
   ]
  },
  {
   "cell_type": "markdown",
   "id": "cba81478",
   "metadata": {},
   "source": [
    "In personalized PageRank, the algorithm is modified to give higher weight to pages that are relevant to the user's interests, based on their browsing history or other data. For example, if a user has previously visited a lot of pages about basketball, pages about basketball will be given a higher score in the personalized PageRank calculation."
   ]
  },
  {
   "cell_type": "code",
   "execution_count": 65,
   "id": "78a4d4f1",
   "metadata": {},
   "outputs": [],
   "source": [
    "boxplots <- function(damping=0.85, personalized=FALSE){\n",
    "  if(personalized){\n",
    "    V(network)$pp<-page.rank(network,damping=damping,personalized = V(network)$churn)$vector\n",
    "  }\n",
    "  else{\n",
    "  V(network)$pp<-page.rank(network,damping=damping)$vector\n",
    "  }\n",
    "  boxplot(V(network)$pp~V(network)$churn)#\n",
    "}"
   ]
  },
  {
   "cell_type": "code",
   "execution_count": 66,
   "id": "8e565644",
   "metadata": {},
   "outputs": [
    {
     "data": {
      "image/png": "[encoded data removed]",
      "text/plain": [
       "plot without title"
      ]
     },
     "metadata": {
      "image/png": {
       "height": 420,
       "width": 420
      }
     },
     "output_type": "display_data"
    },
    {
     "data": {
      "image/png": "[encoded data removed]",
      "text/plain": [
       "plot without title"
      ]
     },
     "metadata": {
      "image/png": {
       "height": 420,
       "width": 420
      }
     },
     "output_type": "display_data"
    },
    {
     "data": {
      "image/png": "[encoded data removed]",
      "text/plain": [
       "plot without title"
      ]
     },
     "metadata": {
      "image/png": {
       "height": 420,
       "width": 420
      }
     },
     "output_type": "display_data"
    },
    {
     "data": {
      "image/png": "[encoded data removed]",
      "text/plain": [
       "plot without title"
      ]
     },
     "metadata": {
      "image/png": {
       "height": 420,
       "width": 420
      }
     },
     "output_type": "display_data"
    }
   ],
   "source": [
    "# Look at the distribution of standard PageRank scores\n",
    "boxplots(damping = 0.85)\n",
    "\n",
    "# Inspect the distribution of personalized PageRank scores\n",
    "boxplots(damping = .85, personalized = TRUE)\n",
    "\n",
    "# Look at the standard PageRank with damping factor 0.2\n",
    "boxplots(damping = 0.2)\n",
    "\n",
    "# Inspect the personalized PageRank scores with a damping factor 0.99\n",
    "boxplots(damping = 0.99, personalized = TRUE)"
   ]
  },
  {
   "cell_type": "code",
   "execution_count": null,
   "id": "4f932116",
   "metadata": {},
   "outputs": [],
   "source": []
  },
  {
   "cell_type": "code",
   "execution_count": null,
   "id": "afe13703",
   "metadata": {},
   "outputs": [],
   "source": []
  },
  {
   "cell_type": "code",
   "execution_count": null,
   "id": "e7f10e80",
   "metadata": {},
   "outputs": [],
   "source": []
  },
  {
   "cell_type": "code",
   "execution_count": null,
   "id": "d16e50c5",
   "metadata": {},
   "outputs": [],
   "source": []
  },
  {
   "cell_type": "code",
   "execution_count": null,
   "id": "17c943b5",
   "metadata": {},
   "outputs": [],
   "source": []
  },
  {
   "cell_type": "code",
   "execution_count": null,
   "id": "77011a76",
   "metadata": {},
   "outputs": [],
   "source": []
  },
  {
   "cell_type": "code",
   "execution_count": null,
   "id": "469c4100",
   "metadata": {},
   "outputs": [],
   "source": []
  },
  {
   "cell_type": "code",
   "execution_count": null,
   "id": "565e1793",
   "metadata": {},
   "outputs": [],
   "source": []
  },
  {
   "cell_type": "code",
   "execution_count": null,
   "id": "13943df2",
   "metadata": {},
   "outputs": [],
   "source": []
  },
  {
   "cell_type": "code",
   "execution_count": null,
   "id": "bceab7d5",
   "metadata": {},
   "outputs": [],
   "source": []
  },
  {
   "cell_type": "code",
   "execution_count": null,
   "id": "eaac29e2",
   "metadata": {},
   "outputs": [],
   "source": []
  },
  {
   "cell_type": "code",
   "execution_count": null,
   "id": "5a202362",
   "metadata": {},
   "outputs": [],
   "source": []
  },
  {
   "cell_type": "code",
   "execution_count": null,
   "id": "f6a52d5e",
   "metadata": {},
   "outputs": [],
   "source": []
  }
 ],
 "metadata": {
  "kernelspec": {
   "display_name": "R",
   "language": "R",
   "name": "ir"
  },
  "language_info": {
   "codemirror_mode": "r",
   "file_extension": ".r",
   "mimetype": "text/x-r-source",
   "name": "R",
   "pygments_lexer": "r",
   "version": "4.2.3"
  }
 },
 "nbformat": 4,
 "nbformat_minor": 5
}
